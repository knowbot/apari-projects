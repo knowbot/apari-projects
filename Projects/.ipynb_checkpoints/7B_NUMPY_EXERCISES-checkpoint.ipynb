{
 "cells": [
  {
   "cell_type": "markdown",
   "metadata": {
    "id": "YQNQ4keK-xjv"
   },
   "source": [
    "# **7. Numpy exercises**"
   ]
  },
  {
   "cell_type": "markdown",
   "metadata": {
    "id": "M2o48Okh-_GD"
   },
   "source": [
    "1. Import the numpy package under the name `np`\n",
    "\n",
    "`hint: import … as`"
   ]
  },
  {
   "cell_type": "code",
   "execution_count": 2,
   "metadata": {
    "id": "XN7DFiM7_Pvp"
   },
   "outputs": [],
   "source": [
    "import numpy as np"
   ]
  },
  {
   "cell_type": "markdown",
   "metadata": {
    "id": "POLBAG5M_QPQ"
   },
   "source": [
    "2. Create a null vector of size 10\n",
    "\n",
    "`hint: np.zeros`\n",
    "\n"
   ]
  },
  {
   "cell_type": "code",
   "execution_count": 7,
   "metadata": {
    "id": "aZT2R1tkBicc"
   },
   "outputs": [
    {
     "data": {
      "text/plain": [
       "array([0., 0., 0., 0., 0., 0., 0., 0., 0., 0.])"
      ]
     },
     "execution_count": 7,
     "metadata": {},
     "output_type": "execute_result"
    }
   ],
   "source": [
    "z = np.zeros(10)\n",
    "z"
   ]
  },
  {
   "cell_type": "code",
   "execution_count": 6,
   "metadata": {
    "id": "AbuXtA0XAAsP"
   },
   "outputs": [
    {
     "data": {
      "text/plain": [
       "10"
      ]
     },
     "execution_count": 6,
     "metadata": {},
     "output_type": "execute_result"
    }
   ],
   "source": [
    "z.size"
   ]
  },
  {
   "cell_type": "markdown",
   "metadata": {
    "id": "6jmMwHwpAA2H"
   },
   "source": [
    "3. Create a vector with values ranging from 0 to 100\n",
    "\n",
    "`hint: arange`"
   ]
  },
  {
   "cell_type": "code",
   "execution_count": 10,
   "metadata": {
    "id": "g-3xXzvrAWPJ"
   },
   "outputs": [
    {
     "data": {
      "text/plain": [
       "array([  0,   1,   2,   3,   4,   5,   6,   7,   8,   9,  10,  11,  12,\n",
       "        13,  14,  15,  16,  17,  18,  19,  20,  21,  22,  23,  24,  25,\n",
       "        26,  27,  28,  29,  30,  31,  32,  33,  34,  35,  36,  37,  38,\n",
       "        39,  40,  41,  42,  43,  44,  45,  46,  47,  48,  49,  50,  51,\n",
       "        52,  53,  54,  55,  56,  57,  58,  59,  60,  61,  62,  63,  64,\n",
       "        65,  66,  67,  68,  69,  70,  71,  72,  73,  74,  75,  76,  77,\n",
       "        78,  79,  80,  81,  82,  83,  84,  85,  86,  87,  88,  89,  90,\n",
       "        91,  92,  93,  94,  95,  96,  97,  98,  99, 100])"
      ]
     },
     "execution_count": 10,
     "metadata": {},
     "output_type": "execute_result"
    }
   ],
   "source": [
    "h = np.arange(0, 101)\n",
    "h"
   ]
  },
  {
   "cell_type": "markdown",
   "metadata": {
    "id": "RbwjVj99AWXZ"
   },
   "source": [
    "4. Create a 10x10 matrix with random values and find the minimum, maximum, and mean values. Normalize the said matrix \n",
    "\n",
    "`hint: min, max, ...`"
   ]
  },
  {
   "cell_type": "code",
   "execution_count": 28,
   "metadata": {
    "id": "_0VEPKs4AxLS"
   },
   "outputs": [
    {
     "name": "stdout",
     "output_type": "stream",
     "text": [
      "original -> min: 0.026452915811036815, max: 0.9841563405185886, mean: 0.4641154147677576\n",
      "after normalization -> min: 0.0, max: 1.0, mean: 0.45699168204433144\n"
     ]
    }
   ],
   "source": [
    "m = np.random.rand(10, 10)\n",
    "print(f\"original -> min: {m.min()}, max: {m.max()}, mean: {m.mean()}\")\n",
    "m = (m - m.min()) / (m.max() - m.min())\n",
    "print(f\"after normalization -> min: {m.min()}, max: {m.max()}, mean: {m.mean()}\")"
   ]
  },
  {
   "cell_type": "markdown",
   "metadata": {
    "id": "RNcNkqTHAxhA"
   },
   "source": [
    "5. Consider a random 10x2 matrix representing cartesian coordinates, convert them to polar coordinates\n",
    "\n",
    "`hint: np.sqrt, np.arctan2`"
   ]
  },
  {
   "cell_type": "code",
   "execution_count": 103,
   "metadata": {
    "id": "TimwEyjqBxtP"
   },
   "outputs": [
    {
     "name": "stdout",
     "output_type": "stream",
     "text": [
      "[[0. 0.]\n",
      " [0. 1.]\n",
      " [1. 0.]\n",
      " [1. 1.]\n",
      " [2. 0.]\n",
      " [2. 1.]\n",
      " [3. 0.]\n",
      " [3. 1.]\n",
      " [4. 0.]\n",
      " [4. 1.]]\n",
      "[[0.         0.        ]\n",
      " [1.         0.78539816]\n",
      " [1.         0.        ]\n",
      " [1.41421356 0.61547971]\n",
      " [2.         0.        ]\n",
      " [2.23606798 0.42053434]\n",
      " [3.         0.        ]\n",
      " [3.16227766 0.30627737]\n",
      " [4.         0.        ]\n",
      " [4.12310563 0.23794112]]\n"
     ]
    }
   ],
   "source": [
    "cart = np.stack([x for x in np.ndindex(5,2)]).astype(float)\n",
    "pol = cart.copy()\n",
    "for p in pol:\n",
    "    p[0] = np.sqrt(p[0]**2 + p[1]**2)\n",
    "    p[1] = np.arctan2(p[1], p[0])\n",
    "print(cart)\n",
    "print(pol)"
   ]
  },
  {
   "cell_type": "markdown",
   "metadata": {
    "id": "StYSV1XMBx3D"
   },
   "source": [
    "6. Create random vector of size 10 and replace the maximum value by 0\n",
    "\n",
    "`hint: argmax`"
   ]
  },
  {
   "cell_type": "code",
   "execution_count": 114,
   "metadata": {
    "id": "OJLNkf9nEYBj"
   },
   "outputs": [
    {
     "name": "stdout",
     "output_type": "stream",
     "text": [
      "[0.17702636 0.8281867  0.27443682 0.29951646 0.6598653  0.26225574\n",
      " 0.29144758 0.98454476 0.17499617 0.98924254]\n",
      "[0.17702636 0.8281867  0.27443682 0.29951646 0.6598653  0.26225574\n",
      " 0.29144758 0.98454476 0.17499617 0.        ]\n"
     ]
    }
   ],
   "source": [
    "r = np.random.rand(10)\n",
    "print(r)\n",
    "r[np.argmax(r)] = 0\n",
    "print(r)"
   ]
  },
  {
   "cell_type": "markdown",
   "metadata": {
    "id": "pkMmd0g9EMTX"
   },
   "source": [
    "7. Create a structured array with x and y coordinates covering the [0,1]x[0,1] area.\n",
    "\n",
    "`hint: np.meshgrid`"
   ]
  },
  {
   "cell_type": "code",
   "execution_count": 132,
   "metadata": {
    "colab": {
     "base_uri": "https://localhost:8080/"
    },
    "executionInfo": {
     "elapsed": 291,
     "status": "ok",
     "timestamp": 1626098348908,
     "user": {
      "displayName": "Đorđe Grbić",
      "photoUrl": "https://lh3.googleusercontent.com/a-/AOh14GjMtdPDPC6XJoAlVJ9SyzF_WldAaS1YlXbiUOAReA=s64",
      "userId": "17224412897437983949"
     },
     "user_tz": -120
    },
    "id": "bl8BChgEEYvE",
    "outputId": "bab731d6-be47-4735-a658-28b8eeebfc4d"
   },
   "outputs": [
    {
     "data": {
      "text/plain": [
       "<matplotlib.collections.PathCollection at 0x234ee5a9670>"
      ]
     },
     "execution_count": 132,
     "metadata": {},
     "output_type": "execute_result"
    },
    {
     "data": {
      "image/png": "[encoded data removed]",
      "text/plain": [
       "<Figure size 432x288 with 1 Axes>"
      ]
     },
     "metadata": {
      "needs_background": "light"
     },
     "output_type": "display_data"
    }
   ],
   "source": [
    "x = np.arange(0, 1.1, 0.1)\n",
    "mg = np.meshgrid(x, x, sparse=False)\n",
    "# This code snipper should give you this plot\n",
    "import matplotlib.pyplot as plt\n",
    "plt.scatter(mg[0], mg[1])"
   ]
  },
  {
   "cell_type": "markdown",
   "metadata": {
    "id": "Ly6Yg3ABEY2-"
   },
   "source": [
    "8. Having a scalar `x` and a random vector `v`, find a value in `v` that is closest to `x`\n",
    "\n",
    "`hint: argmin`"
   ]
  },
  {
   "cell_type": "code",
   "execution_count": 122,
   "metadata": {
    "id": "WC3FkkfkFCGU"
   },
   "outputs": [
    {
     "name": "stdout",
     "output_type": "stream",
     "text": [
      "[0.57539093 0.01714815 0.65363195 0.71892709 0.89918059]\n",
      "0.9193618517327377\n",
      "0.8991805945019428\n"
     ]
    }
   ],
   "source": [
    "v = np.random.rand(5)\n",
    "print(v)\n",
    "x = np.random.rand()\n",
    "print(x)\n",
    "print(v[(np.abs(v - x)).argmin()])"
   ]
  },
  {
   "cell_type": "markdown",
   "metadata": {
    "id": "e-RvkXzsFCNm"
   },
   "source": [
    "9. Create a structured array representing a position (x,y) and a color (r,g,b)."
   ]
  },
  {
   "cell_type": "code",
   "execution_count": 170,
   "metadata": {
    "id": "ZPbPvGiMFKZJ"
   },
   "outputs": [
    {
     "name": "stderr",
     "output_type": "stream",
     "text": [
      "<ipython-input-170-7eb59d61544f>:1: FutureWarning: Passing (type, 1) or '1type' as a synonym of type is deprecated; in a future version of numpy, it will be understood as (type, (1,)) / '(1,)type'.\n",
      "  arr = np.zeros(5, [ ('pos',       [('x', float, 1),\n"
     ]
    },
    {
     "data": {
      "text/plain": [
       "array([((0., 0.), (0, 0, 0)), ((0., 0.), (0, 0, 0)),\n",
       "       ((0., 0.), (0, 0, 0)), ((0., 0.), (0, 0, 0)),\n",
       "       ((0., 0.), (0, 0, 0))],\n",
       "      dtype=[('pos', [('x', '<f8'), ('y', '<f8')]), ('colour', [('r', '<i4'), ('g', '<i4'), ('b', '<i4')])])"
      ]
     },
     "execution_count": 170,
     "metadata": {},
     "output_type": "execute_result"
    }
   ],
   "source": [
    "arr = np.zeros(5, [ ('pos',       [('x', float, 1),\n",
    "                                   ('y', float, 1)]),\n",
    "                    ('colour',    [('r', int, 1),\n",
    "                                   ('g', int, 1),\n",
    "                                   ('b', int, 1)])])\n",
    "arr"
   ]
  },
  {
   "cell_type": "markdown",
   "metadata": {
    "id": "bz-Y3S-PFKgB"
   },
   "source": [
    "10. Consider a random vector with shape (100,2) representing coordinates, find point by point distances and put them in a (100,100) array."
   ]
  },
  {
   "cell_type": "code",
   "execution_count": 138,
   "metadata": {},
   "outputs": [
    {
     "name": "stdout",
     "output_type": "stream",
     "text": [
      "[[0.         0.57715771 0.7457635  ... 0.27779888 0.3195822  0.55754631]\n",
      " [0.57715771 0.         0.56550475 ... 0.37048796 0.48481011 0.07473736]\n",
      " [0.7457635  0.56550475 0.         ... 0.48681476 0.43235018 0.63282064]\n",
      " ...\n",
      " [0.27779888 0.37048796 0.48681476 ... 0.         0.13798681 0.3834455 ]\n",
      " [0.3195822  0.48481011 0.43235018 ... 0.13798681 0.         0.50904784]\n",
      " [0.55754631 0.07473736 0.63282064 ... 0.3834455  0.50904784 0.        ]]\n"
     ]
    },
    {
     "data": {
      "text/plain": [
       "(100, 100)"
      ]
     },
     "execution_count": 138,
     "metadata": {},
     "output_type": "execute_result"
    }
   ],
   "source": [
    "points = np.random.random((100, 2))\n",
    "res = np.zeros((100, 100))\n",
    "for i in range(100):\n",
    "  for j in range(100):\n",
    "    p1 = points[i, :]\n",
    "    p2 = points[j, :]\n",
    "    res[i, j] = np.sqrt(((p1 - p2) ** 2).sum())\n",
    "\n",
    "print(D)\n",
    "D.shape"
   ]
  },
  {
   "cell_type": "markdown",
   "metadata": {
    "id": "AobdFYbqFamg"
   },
   "source": [
    "11. Create a (100,100) matrix that looks like a Gaussian distribution, i.e. the values in the middle of the matrix have the highest probability, while the values toward the edges have the lowest probablity. Plot the matrix to confirm correctness."
   ]
  },
  {
   "cell_type": "code",
   "execution_count": 177,
   "metadata": {
    "id": "GZuYEwWBGOST"
   },
   "outputs": [
    {
     "data": {
      "text/plain": [
       "<matplotlib.image.AxesImage at 0x234ef4a2c40>"
      ]
     },
     "execution_count": 177,
     "metadata": {},
     "output_type": "execute_result"
    },
    {
     "data": {
      "image/png": "[encoded data removed]",
      "text/plain": [
       "<Figure size 432x288 with 1 Axes>"
      ]
     },
     "metadata": {
      "needs_background": "light"
     },
     "output_type": "display_data"
    }
   ],
   "source": [
    "xx, yy = np.meshgrid(np.linspace(-1,1,100), np.linspace(-1,1,100))\n",
    "distances = np.sqrt(xx*xx+yy*yy)\n",
    "sigma, mu = 1.0, 0.0\n",
    "gauss = np.exp(-( (D-mu)**2 / ( 2.0 * sigma**2 ) ) )\n",
    "plt.imshow(gauss)"
   ]
  },
  {
   "cell_type": "markdown",
   "metadata": {
    "id": "mASMahBpGOZW"
   },
   "source": [
    "12. Create a random (100, 100) matrix with values from 0 to 1. Turn all values lower than 0.5 into 0.0"
   ]
  },
  {
   "cell_type": "code",
   "execution_count": 181,
   "metadata": {
    "id": "nfJsjzgeGlOs"
   },
   "outputs": [
    {
     "name": "stdout",
     "output_type": "stream",
     "text": [
      "before replacing \n",
      " [[0.02521911 0.8781084  0.59922044 ... 0.65152331 0.23572187 0.63818693]\n",
      " [0.02421077 0.73029712 0.87574977 ... 0.25205218 0.07184632 0.29676339]\n",
      " [0.79849738 0.84406317 0.0126311  ... 0.58763353 0.63064349 0.56133848]\n",
      " ...\n",
      " [0.11794765 0.04120682 0.02522026 ... 0.78767391 0.19055074 0.24360466]\n",
      " [0.45725602 0.79927896 0.28852684 ... 0.81421823 0.65515196 0.39139137]\n",
      " [0.78776523 0.16428704 0.40981732 ... 0.59412315 0.12618838 0.58331184]]\n",
      "after replacing \n",
      " [[0.         0.8781084  0.59922044 ... 0.65152331 0.         0.63818693]\n",
      " [0.         0.73029712 0.87574977 ... 0.         0.         0.        ]\n",
      " [0.79849738 0.84406317 0.         ... 0.58763353 0.63064349 0.56133848]\n",
      " ...\n",
      " [0.         0.         0.         ... 0.78767391 0.         0.        ]\n",
      " [0.         0.79927896 0.         ... 0.81421823 0.65515196 0.        ]\n",
      " [0.78776523 0.         0.         ... 0.59412315 0.         0.58331184]]\n"
     ]
    }
   ],
   "source": [
    "mat = np.random.rand(100, 100)\n",
    "print(f\"before replacing \\n {mat}\")\n",
    "mat[(mat < 0.5)] = 0.0\n",
    "print(f\"after replacing \\n {mat}\")"
   ]
  },
  {
   "cell_type": "markdown",
   "metadata": {
    "id": "HjJD3LnuGlUm"
   },
   "source": [
    "13. Sort an array by the nth column."
   ]
  },
  {
   "cell_type": "code",
   "execution_count": 191,
   "metadata": {
    "id": "STlF-kurHJjM"
   },
   "outputs": [
    {
     "name": "stdout",
     "output_type": "stream",
     "text": [
      "[[4 9 6 1 1]\n",
      " [3 4 9 0 2]\n",
      " [5 4 0 9 5]\n",
      " [4 5 3 5 7]\n",
      " [8 3 7 5 7]]\n",
      "[[3 4 9 0 2]\n",
      " [4 9 6 1 1]\n",
      " [4 5 3 5 7]\n",
      " [5 4 0 9 5]\n",
      " [8 3 7 5 7]]\n"
     ]
    }
   ],
   "source": [
    "arr = np.random.randint(0,10,(5,5))\n",
    "print(arr)\n",
    "print(arr[arr[:,0].argsort()])"
   ]
  },
  {
   "cell_type": "markdown",
   "metadata": {
    "id": "asim4h_RHJot"
   },
   "source": [
    "14. Load the csv file into numpy array.\n",
    "\n",
    "File:\n",
    "\n",
    "```\n",
    "1, 2, 3, 4, 5\n",
    "6,  ,  , 7, 8\n",
    " ,  , 9,10,11\n",
    "```\n",
    "\n",
    "\n",
    "\n",
    "\n"
   ]
  },
  {
   "cell_type": "code",
   "execution_count": 192,
   "metadata": {
    "id": "kICglpysJcgq"
   },
   "outputs": [
    {
     "data": {
      "text/plain": [
       "array([[ 1.,  2.,  3.,  4.,  5.],\n",
       "       [ 6., nan, nan,  7.,  8.],\n",
       "       [nan, nan,  9., 10., 11.]])"
      ]
     },
     "execution_count": 192,
     "metadata": {},
     "output_type": "execute_result"
    }
   ],
   "source": [
    "from io import StringIO\n",
    "csv = StringIO(\"1, 2, 3, 4, 5 \\n 6,  ,  , 7, 8 \\n  ,  , 9,10,11\")\n",
    "np.genfromtxt(csv, delimiter=',')"
   ]
  },
  {
   "cell_type": "markdown",
   "metadata": {
    "id": "PgfmRH4fJcwZ"
   },
   "source": [
    "15. Subtract the mean of each row of a matrix."
   ]
  },
  {
   "cell_type": "code",
   "execution_count": 194,
   "metadata": {
    "id": "IsIHyXgmJ-6x"
   },
   "outputs": [
    {
     "name": "stdout",
     "output_type": "stream",
     "text": [
      "example matrix\n",
      "[[7 0 3 2]\n",
      " [7 5 7 0]\n",
      " [6 2 2 6]]\n",
      "after modifying\n",
      "[[ 4.   -3.    0.   -1.  ]\n",
      " [ 2.25  0.25  2.25 -4.75]\n",
      " [ 2.   -2.   -2.    2.  ]]\n"
     ]
    }
   ],
   "source": [
    "n = np.random.randint(0, 10, (3,4))\n",
    "print(\"example matrix\")\n",
    "print(n)\n",
    "# Recent versions of numpy\n",
    "n = n - n.mean(axis=1, keepdims=True)\n",
    "print(\"after modifying\")\n",
    "print(n)"
   ]
  },
  {
   "cell_type": "markdown",
   "metadata": {
    "id": "VobECAmZJ_Ik"
   },
   "source": [
    "16. Considering a four dimensions array, how to get sum over the last two axis at once?"
   ]
  },
  {
   "cell_type": "code",
   "execution_count": 198,
   "metadata": {
    "id": "t-EQfHUlKMVX"
   },
   "outputs": [
    {
     "name": "stdout",
     "output_type": "stream",
     "text": [
      "[[95 77 68 89]\n",
      " [72 85 76 59]\n",
      " [77 67 73 47]\n",
      " [95 80 91 72]]\n"
     ]
    }
   ],
   "source": [
    "mat = np.random.randint(0,10,(4,4,4,4))\n",
    "res = mat.reshape(mat.shape[:-2] + (-1,)).sum(axis=-1)\n",
    "print(res)\n",
    "\n"
   ]
  },
  {
   "cell_type": "markdown",
   "metadata": {
    "id": "7FwporQmKMfV"
   },
   "source": [
    "17. Do a dot product of two matrices and print only the diagonal values."
   ]
  },
  {
   "cell_type": "code",
   "execution_count": 201,
   "metadata": {
    "id": "DqLnFglFKijP"
   },
   "outputs": [
    {
     "data": {
      "text/plain": [
       "array([184,  91,  94, 118, 123])"
      ]
     },
     "execution_count": 201,
     "metadata": {},
     "output_type": "execute_result"
    }
   ],
   "source": [
    "m = np.random.randint(0,10,(5,5))\n",
    "n = np.random.randint(0,10,(5,5))\n",
    "#Slow version\n",
    "\n",
    "np.diag(np.dot(m, n))"
   ]
  },
  {
   "cell_type": "markdown",
   "metadata": {
    "id": "FwBos0hcKj5j"
   },
   "source": [
    "18. Swap two rows of a matrix."
   ]
  },
  {
   "cell_type": "code",
   "execution_count": 202,
   "metadata": {
    "id": "sXSrNvAhKr_1"
   },
   "outputs": [
    {
     "name": "stdout",
     "output_type": "stream",
     "text": [
      "[[7 0 8 0 1]\n",
      " [6 0 4 8 6]\n",
      " [4 8 5 9 0]\n",
      " [1 5 4 7 0]\n",
      " [5 0 0 2 1]]\n",
      "[[6 0 4 8 6]\n",
      " [7 0 8 0 1]\n",
      " [4 8 5 9 0]\n",
      " [1 5 4 7 0]\n",
      " [5 0 0 2 1]]\n"
     ]
    }
   ],
   "source": [
    "m = np.random.randint(0,10,(5,5))\n",
    "print(m)\n",
    "m[[0,1]] = m[[1,0]]\n",
    "print(m)"
   ]
  },
  {
   "cell_type": "markdown",
   "metadata": {
    "id": "LvsNtLgKKsGT"
   },
   "source": [
    "19. Find a matrix rank."
   ]
  },
  {
   "cell_type": "code",
   "execution_count": 206,
   "metadata": {
    "id": "Jnwj7uy6K8Bt"
   },
   "outputs": [
    {
     "name": "stdout",
     "output_type": "stream",
     "text": [
      "2\n"
     ]
    }
   ],
   "source": [
    "Z = np.random.randint(0,10,(2,5))\n",
    "_, s, _ = np.linalg.svd(Z) # Singular Value Decomposition\n",
    "rank = np.sum(s > 1e-10)\n",
    "print(rank)"
   ]
  },
  {
   "cell_type": "markdown",
   "metadata": {
    "id": "FGSpfIrJK8JO"
   },
   "source": [
    "20. find the most frequent value in an array"
   ]
  },
  {
   "cell_type": "code",
   "execution_count": 207,
   "metadata": {
    "id": "C4M6dF9zLAx2"
   },
   "outputs": [
    {
     "name": "stdout",
     "output_type": "stream",
     "text": [
      "[29  1 80 76 28 96 11 74 19 93 23 94  0 94 98 28 56 10 13 97 68 53 83 75\n",
      " 64  2  7 10 88 85 66 37 80 77 96  6  5 29 98 23 59 31 56 57 73 51 51 12\n",
      " 46 77 53 11 73 80 11 51 67 11  1 88 78  2  9 61 79 67 31 99  0 41 27 73\n",
      " 16 49 89 29 83 17 95 78 26 78 63 59 56 10 27  1 84 17 53 57 22 94 33 23\n",
      " 54  6 74 75]\n",
      "11\n"
     ]
    }
   ],
   "source": [
    "a = np.random.randint(0,100,100)\n",
    "print(a)\n",
    "print(np.bincount(a).argmax())\n",
    "\n"
   ]
  },
  {
   "cell_type": "code",
   "execution_count": 208,
   "metadata": {
    "colab": {
     "base_uri": "https://localhost:8080/"
    },
    "executionInfo": {
     "elapsed": 5,
     "status": "ok",
     "timestamp": 1626535085204,
     "user": {
      "displayName": "Miguel González Duque",
      "photoUrl": "https://lh3.googleusercontent.com/a-/AOh14GimSzbAlN9R2AMUkPo6-Y5Y2iNWJXP37U_IyAKQ=s64",
      "userId": "07264348204271089916"
     },
     "user_tz": -120
    },
    "id": "gqsg--a2CzYQ",
    "outputId": "2a8e1576-1e5b-491e-9d43-35d861b63905"
   },
   "outputs": [
    {
     "data": {
      "text/plain": [
       "array([[1., 4., 9.]])"
      ]
     },
     "execution_count": 208,
     "metadata": {},
     "output_type": "execute_result"
    }
   ],
   "source": [
    "import numpy as np\n",
    "\n",
    "x = np.array([[1.0, 2.0, 3.0]])\n",
    "x ** 2"
   ]
  },
  {
   "cell_type": "code",
   "execution_count": 209,
   "metadata": {
    "colab": {
     "base_uri": "https://localhost:8080/"
    },
    "executionInfo": {
     "elapsed": 234,
     "status": "ok",
     "timestamp": 1626535107927,
     "user": {
      "displayName": "Miguel González Duque",
      "photoUrl": "https://lh3.googleusercontent.com/a-/AOh14GimSzbAlN9R2AMUkPo6-Y5Y2iNWJXP37U_IyAKQ=s64",
      "userId": "07264348204271089916"
     },
     "user_tz": -120
    },
    "id": "9zVjcK-DC5l5",
    "outputId": "48f31d75-09af-4643-e56f-281e8a1e9559"
   },
   "outputs": [
    {
     "data": {
      "text/plain": [
       "array([[ 3., 10., 21.]])"
      ]
     },
     "execution_count": 209,
     "metadata": {},
     "output_type": "execute_result"
    }
   ],
   "source": [
    "x + 2*(x ** 2)"
   ]
  },
  {
   "cell_type": "code",
   "execution_count": 210,
   "metadata": {
    "colab": {
     "base_uri": "https://localhost:8080/"
    },
    "executionInfo": {
     "elapsed": 245,
     "status": "ok",
     "timestamp": 1626536153365,
     "user": {
      "displayName": "Miguel González Duque",
      "photoUrl": "https://lh3.googleusercontent.com/a-/AOh14GimSzbAlN9R2AMUkPo6-Y5Y2iNWJXP37U_IyAKQ=s64",
      "userId": "07264348204271089916"
     },
     "user_tz": -120
    },
    "id": "DtrxwgfbC-H-",
    "outputId": "48856003-7b9d-4f0a-8026-5b85fe4e830a"
   },
   "outputs": [
    {
     "data": {
      "text/plain": [
       "array([1, 3, 5])"
      ]
     },
     "execution_count": 210,
     "metadata": {},
     "output_type": "execute_result"
    }
   ],
   "source": [
    "X = np.array(\n",
    "    [[1, 2],\n",
    "    [3, 4],\n",
    "    [5, 6]]\n",
    ")\n",
    "X[:, 0]"
   ]
  },
  {
   "cell_type": "code",
   "execution_count": 7,
   "metadata": {
    "colab": {
     "base_uri": "https://localhost:8080/"
    },
    "executionInfo": {
     "elapsed": 240,
     "status": "ok",
     "timestamp": 1626536172304,
     "user": {
      "displayName": "Miguel González Duque",
      "photoUrl": "https://lh3.googleusercontent.com/a-/AOh14GimSzbAlN9R2AMUkPo6-Y5Y2iNWJXP37U_IyAKQ=s64",
      "userId": "07264348204271089916"
     },
     "user_tz": -120
    },
    "id": "miYfp1QqG-7b",
    "outputId": "cc2e506b-8ab7-4a90-e46a-1146daddff71"
   },
   "outputs": [
    {
     "data": {
      "text/plain": [
       "array([3, 4])"
      ]
     },
     "execution_count": 7,
     "metadata": {
      "tags": []
     },
     "output_type": "execute_result"
    }
   ],
   "source": [
    "X[1, :]"
   ]
  },
  {
   "cell_type": "code",
   "execution_count": 8,
   "metadata": {
    "colab": {
     "base_uri": "https://localhost:8080/"
    },
    "executionInfo": {
     "elapsed": 223,
     "status": "ok",
     "timestamp": 1626536216948,
     "user": {
      "displayName": "Miguel González Duque",
      "photoUrl": "https://lh3.googleusercontent.com/a-/AOh14GimSzbAlN9R2AMUkPo6-Y5Y2iNWJXP37U_IyAKQ=s64",
      "userId": "07264348204271089916"
     },
     "user_tz": -120
    },
    "id": "Tm4zbqRgHC2O",
    "outputId": "d639d696-f28f-4328-fc16-d8a380057882"
   },
   "outputs": [
    {
     "data": {
      "text/plain": [
       "array([2, 4, 6])"
      ]
     },
     "execution_count": 8,
     "metadata": {
      "tags": []
     },
     "output_type": "execute_result"
    }
   ],
   "source": [
    "X.max(axis=1)"
   ]
  },
  {
   "cell_type": "code",
   "execution_count": 10,
   "metadata": {
    "colab": {
     "base_uri": "https://localhost:8080/"
    },
    "executionInfo": {
     "elapsed": 222,
     "status": "ok",
     "timestamp": 1626536238205,
     "user": {
      "displayName": "Miguel González Duque",
      "photoUrl": "https://lh3.googleusercontent.com/a-/AOh14GimSzbAlN9R2AMUkPo6-Y5Y2iNWJXP37U_IyAKQ=s64",
      "userId": "07264348204271089916"
     },
     "user_tz": -120
    },
    "id": "nB6PwqT9HQc6",
    "outputId": "9272067c-8ea2-43c8-e1c8-eab3678dcca9"
   },
   "outputs": [
    {
     "data": {
      "text/plain": [
       "array([[ 1,  2],\n",
       "       [ 4,  6],\n",
       "       [ 9, 12]])"
      ]
     },
     "execution_count": 10,
     "metadata": {
      "tags": []
     },
     "output_type": "execute_result"
    }
   ],
   "source": [
    "X.cumsum(axis=0)"
   ]
  },
  {
   "cell_type": "code",
   "execution_count": null,
   "metadata": {
    "id": "VSVANIViHUGh"
   },
   "outputs": [],
   "source": []
  }
 ],
 "metadata": {
  "colab": {
   "name": "7b_numpy_exercises.ipynb",
   "provenance": []
  },
  "kernelspec": {
   "display_name": "Python 3",
   "language": "python",
   "name": "python3"
  },
  "language_info": {
   "codemirror_mode": {
    "name": "ipython",
    "version": 3
   },
   "file_extension": ".py",
   "mimetype": "text/x-python",
   "name": "python",
   "nbconvert_exporter": "python",
   "pygments_lexer": "ipython3",
   "version": "3.8.8"
  }
 },
 "nbformat": 4,
 "nbformat_minor": 1
}
