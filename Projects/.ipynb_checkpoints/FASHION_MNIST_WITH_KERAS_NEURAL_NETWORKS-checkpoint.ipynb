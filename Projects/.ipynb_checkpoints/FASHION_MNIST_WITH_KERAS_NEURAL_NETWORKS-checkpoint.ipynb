{
 "cells": [
  {
   "cell_type": "markdown",
   "metadata": {
    "id": "1WV0mfSRo1NC"
   },
   "source": [
    "## Implement and apply a Two layer neural network classifier with Keras\n",
    "\n",
    "### MNIST and Fashion-MNIST dataset\n",
    "The original [MNIST dataset](http://yann.lecun.com/exdb/mnist/) contains a lot of handwritten digits. Members of the AI/ML/Data Science community love this dataset and use it as a benchmark to validate their algorithms. In fact, MNIST is often the first dataset researchers try. *\"If it doesn't work on **MNIST**, it won't work at all\"*, they said. *\"Well, if it does work on MNIST, it may still fail on others.\"*  \n",
    "Here are some good reasons for using [Fashion-MNIST dataset](https://github.com/zalandoresearch/fashion-mnist):  \n",
    "- MNIST is too easy. Convolutional nets can achieve 99.7% on MNIST. Classic machine learning algorithms can also achieve 97% easily. Check out our side-by-side benchmark for Fashion-MNIST vs. MNIST, and read \"Most pairs of MNIST digits can be distinguished pretty well by just one pixel.\"\n",
    "- MNIST is overused. In this April 2017 Twitter thread, Google Brain research scientist and deep learning expert Ian Goodfellow calls for people to move away from MNIST.\n",
    "- MNIST can not represent modern CV tasks, as noted in this April 2017 Twitter thread, deep learning expert/Keras author François Chollet.\n",
    "\n",
    "\n",
    "# Task 1:\n",
    "Find Fashion MNIST on the internet and save it as `./input`"
   ]
  },
  {
   "cell_type": "markdown",
   "metadata": {
    "id": "oaNNIwIto1NE"
   },
   "source": [
    "## Import packages"
   ]
  },
  {
   "cell_type": "code",
   "execution_count": 7,
   "metadata": {
    "colab": {
     "base_uri": "https://localhost:8080/"
    },
    "id": "wVrJyvJEo1NE",
    "outputId": "12dd06d7-2f5b-4517-aa95-e8511dcaa820",
    "scrolled": true
   },
   "outputs": [
    {
     "name": "stdout",
     "output_type": "stream",
     "text": [
      "Here are the input datasets: \n",
      "t10k-images-idx3-ubyte.gz\n",
      "t10k-labels-idx1-ubyte.gz\n",
      "train-images-idx3-ubyte.gz\n",
      "train-labels-idx1-ubyte.gz\n",
      "\n",
      "Python Version: \n",
      "Python 3.8.8\n"
     ]
    }
   ],
   "source": [
    "# This Python 3 environment comes with many helpful analytics libraries installed\n",
    "# It is defined by the kaggle/python docker image: https://github.com/kaggle/docker-python\n",
    "# For example, here's several helpful packages to load in \n",
    "\n",
    "import os # processing file path\n",
    "import gzip # unzip the .gz file, not used here\n",
    "import numpy as np # linear algebra\n",
    "import pandas as pd # data processing, CSV file I/O (e.g. pd.read_csv)\n",
    "import matplotlib.pyplot as plt # data visualization\n",
    "import requests\n",
    "dataset_urls = {\n",
    "    \"http://fashion-mnist.s3-website.eu-central-1.amazonaws.com/train-images-idx3-ubyte.gz\",\n",
    "    \"http://fashion-mnist.s3-website.eu-central-1.amazonaws.com/train-labels-idx1-ubyte.gz\",\n",
    "    \"http://fashion-mnist.s3-website.eu-central-1.amazonaws.com/t10k-images-idx3-ubyte.gz\",\n",
    "    \"http://fashion-mnist.s3-website.eu-central-1.amazonaws.com/t10k-labels-idx1-ubyte.gz\"\n",
    "}\n",
    "\n",
    "input_dir = os.path.join(\"input\")\n",
    "if not os.path.exists(input_dir):\n",
    "    os.mkdir(input_dir)\n",
    "\n",
    "for url in dataset_urls:\n",
    "    r = requests.get(url)\n",
    "    fname = ''\n",
    "    if \"Content-Disposition\" in r.headers.keys():\n",
    "        fname = requests.findall(\"filename=(.+)\", r.headers[\"Content-Disposition\"])[0]\n",
    "    else:\n",
    "        fname = url.split(\"/\")[-1]\n",
    "        fname = os.path.join(input_dir, fname)\n",
    "    if os.path.isfile(fname):\n",
    "        continue\n",
    "    with open(fname, 'wb') as f:\n",
    "        f.write(r.content)\n",
    "\n",
    "# Input data files are available in the \"../input/\" directory.\n",
    "# For example, running this (by clicking run or pressing Shift+Enter) will list the files in the input directory\n",
    "\n",
    "from subprocess import check_output\n",
    "print(\"Here are the input datasets: \")\n",
    "print(check_output([\"ls\", \"./input\"]).decode(\"utf8\"))\n",
    "\n",
    "print(\"Python Version: \")\n",
    "!python -V\n",
    "# Any results you write to the current directory are saved as output."
   ]
  },
  {
   "cell_type": "markdown",
   "metadata": {
    "id": "TWNlZIcpo1NF"
   },
   "source": [
    "## Load the datasets\n",
    "We haven't use the CSV file because we want to load the dataset using Numpy.  \n",
    "**Notice:** If you use the `mnist_reader.py` codes from  [GitHub repository](https://github.com/zalandoresearch/fashion-mnist/blob/master/utils/mnist_reader.py), it might doesn't work. Because the `.gz` file has been unpacked."
   ]
  },
  {
   "cell_type": "code",
   "execution_count": 8,
   "metadata": {
    "id": "774UwuXpo1NF"
   },
   "outputs": [],
   "source": [
    "def load_mnist(path, kind='train'):\n",
    "    \"\"\"Load MNIST data from `path`\"\"\"\n",
    "    labels_path = os.path.join(path,\n",
    "                               '%s-labels-idx1-ubyte.gz'\n",
    "                               % kind)\n",
    "    images_path = os.path.join(path,\n",
    "                               '%s-images-idx3-ubyte.gz'\n",
    "                               % kind)\n",
    "    print(images_path)\n",
    "\n",
    "    with gzip.open(labels_path, 'rb') as lbpath:\n",
    "        labels = np.frombuffer(lbpath.read(), dtype=np.uint8,\n",
    "                               offset=8)\n",
    "\n",
    "    with gzip.open(images_path, 'rb') as imgpath:\n",
    "        images = np.frombuffer(imgpath.read(), dtype=np.uint8,\n",
    "                               offset=16).reshape(len(labels), 784)\n",
    "\n",
    "    return images, labels"
   ]
  },
  {
   "cell_type": "code",
   "execution_count": 9,
   "metadata": {
    "id": "Ae0Jhl92o1NF"
   },
   "outputs": [
    {
     "name": "stdout",
     "output_type": "stream",
     "text": [
      "Nothing to clean.\n"
     ]
    }
   ],
   "source": [
    "# Cleaning up variables to prevent loading data multiple times (which may cause memory issue)\n",
    "try:\n",
    "    del X_train, y_train\n",
    "    del X_val, y_val\n",
    "    del X_test, y_test\n",
    "    print('Clear previously loaded data.')\n",
    "except:\n",
    "    print('Nothing to clean.')\n",
    "    pass"
   ]
  },
  {
   "cell_type": "code",
   "execution_count": 10,
   "metadata": {
    "id": "m-6WRRT0o1NG"
   },
   "outputs": [
    {
     "name": "stdout",
     "output_type": "stream",
     "text": [
      "./input\\train-images-idx3-ubyte.gz\n",
      "./input\\t10k-images-idx3-ubyte.gz\n"
     ]
    }
   ],
   "source": [
    "# Load the data\n",
    "X_train, y_train = load_mnist('./input', kind='train')\n",
    "X_test, y_test = load_mnist('./input', kind='t10k')\n",
    "m_train = X_train.shape[0]\n",
    "m_test = X_test.shape[0]\n",
    "class_names = ['T-shirt/top', 'Trouser', 'Pullover', 'Dress', 'Coat',\n",
    "               'Sandal', 'Shirt', 'Sneaker', 'Bag', 'Ankle boot']"
   ]
  },
  {
   "cell_type": "code",
   "execution_count": 11,
   "metadata": {
    "colab": {
     "base_uri": "https://localhost:8080/"
    },
    "id": "GhpTMUpto1NG",
    "outputId": "1b532b84-b460-48b0-af0c-b6b900e91b2a"
   },
   "outputs": [
    {
     "name": "stdout",
     "output_type": "stream",
     "text": [
      "X_train shape: (60000, 784)\n",
      "y_train shape: (60000,)\n",
      "X_test shape: (10000, 784)\n",
      "y_test shape: (10000,)\n",
      "Number of training examples: m_train = 60000\n",
      "Number of testing examples: m_test = 10000\n"
     ]
    }
   ],
   "source": [
    "print(\"X_train shape: \" + str(X_train.shape))\n",
    "print(\"y_train shape: \" + str(y_train.shape))\n",
    "print(\"X_test shape: \" + str(X_test.shape))\n",
    "print(\"y_test shape: \" + str(y_test.shape))\n",
    "print (\"Number of training examples: m_train = \" + str(m_train))\n",
    "print (\"Number of testing examples: m_test = \" + str(m_test))"
   ]
  },
  {
   "cell_type": "code",
   "execution_count": 12,
   "metadata": {
    "colab": {
     "base_uri": "https://localhost:8080/",
     "height": 297
    },
    "id": "X5f5nH3lo1NH",
    "outputId": "848eeda3-c55e-4cd8-8a38-6b4304c2d42c",
    "scrolled": true
   },
   "outputs": [
    {
     "data": {
      "image/png": "[encoded data removed]",
      "text/plain": [
       "<Figure size 432x288 with 8 Axes>"
      ]
     },
     "metadata": {
      "needs_background": "light"
     },
     "output_type": "display_data"
    }
   ],
   "source": [
    "# random check with nine training examples\n",
    "np.random.seed(0);\n",
    "indices = list(np.random.randint(m_train,size=9))\n",
    "for i in range(9):\n",
    "    plt.subplot(3,3,i+1)\n",
    "    plt.imshow(X_train[indices[i]].reshape(28,28), cmap='gray', interpolation='none')\n",
    "    plt.title(\"Index {} Class {}\".format(indices[i], y_train[indices[i]]))\n",
    "    plt.tight_layout()"
   ]
  },
  {
   "cell_type": "markdown",
   "metadata": {
    "id": "nkXgY8uvo1NH"
   },
   "source": [
    "| 0           | 1       | 2        | 3     | 4    | 5     | 6     | 7       | 8    | 9          |\n",
    "| ----------- | ------- | -------- | ----- | ---- | ----- | ----- | ------- | ---- | ---------- |\n",
    "| T-shirt/top | Trouser | Pullover | Dress | Coat | Sanda | Shirt | Sneaker | Bag  | Ankle boot |\n"
   ]
  },
  {
   "cell_type": "markdown",
   "metadata": {
    "id": "frjVtHFao1NH"
   },
   "source": [
    "## Preprocessing"
   ]
  },
  {
   "cell_type": "code",
   "execution_count": 13,
   "metadata": {
    "id": "o7UckBQ0o1NH"
   },
   "outputs": [],
   "source": [
    "# Split the data into train / validation / test\n",
    "m_train = 59000\n",
    "m_validation = 1000\n",
    "X_train, X_val = X_train[:m_train, ...], X_train[m_train:, ...]\n",
    "y_train, y_val = y_train[:m_train, ...], y_train[m_train:, ...]"
   ]
  },
  {
   "cell_type": "code",
   "execution_count": 14,
   "metadata": {
    "id": "uM5Y9h7Eo1NI"
   },
   "outputs": [],
   "source": [
    "# Reshape data to rows\n",
    "# it's already in rows :D\n",
    "X_train = X_train.astype('float32') / 255.\n",
    "X_val = X_val.astype('float32') / 255.\n",
    "X_test = X_test.astype('float32') / 255."
   ]
  },
  {
   "cell_type": "code",
   "execution_count": 15,
   "metadata": {
    "colab": {
     "base_uri": "https://localhost:8080/"
    },
    "id": "T-5E3Lsso1NI",
    "outputId": "6fb170ce-7bff-4d69-a7a3-ed28966a4a7a"
   },
   "outputs": [
    {
     "name": "stdout",
     "output_type": "stream",
     "text": [
      "X_train shape: (59000, 784)\n",
      "y_train shape: (59000,)\n",
      "X_val shape: (1000, 784)\n",
      "y_val shape: (1000,)\n",
      "X_test shape: (10000, 784)\n",
      "y_test shape: (10000,)\n",
      "Number of training examples: m_train = 59000\n",
      "Number of validation examples: m_validation = 1000\n",
      "Number of testing examples: m_test = 10000\n"
     ]
    }
   ],
   "source": [
    "# Test if the shapes are correct and the values make sense\n",
    "print(\"X_train shape: \" + str(X_train.shape))\n",
    "print(\"y_train shape: \" + str(y_train.shape))\n",
    "print(\"X_val shape: \" + str(X_val.shape))\n",
    "print(\"y_val shape: \" + str(y_val.shape))\n",
    "print(\"X_test shape: \" + str(X_test.shape))\n",
    "print(\"y_test shape: \" + str(y_test.shape))\n",
    "print (\"Number of training examples: m_train = \" + str(m_train))\n",
    "print (\"Number of validation examples: m_validation = \" + str(m_validation))\n",
    "print (\"Number of testing examples: m_test = \" + str(m_test))"
   ]
  },
  {
   "cell_type": "code",
   "execution_count": 16,
   "metadata": {
    "colab": {
     "base_uri": "https://localhost:8080/"
    },
    "id": "cYn1enbwo1NI",
    "outputId": "8f4814de-d8ff-4aad-a236-95f7c677574a",
    "scrolled": true
   },
   "outputs": [
    {
     "name": "stdout",
     "output_type": "stream",
     "text": [
      "Feature Values: \n",
      "From 0.0 to 1.0\n",
      "Test Feature Values: \n",
      "From 0.0 to 1.0\n",
      "Data type: float32\n",
      "\n",
      "Label Values: \n",
      "{0, 1, 2, 3, 4, 5, 6, 7, 8, 9}\n",
      "Data type: uint8\n"
     ]
    }
   ],
   "source": [
    "print(\"Feature Values: \\nFrom \" + str(np.min(X_train)) + \" to \" + str(np.max(X_train)))\n",
    "print(\"Test Feature Values: \\nFrom \" + str(np.min(X_test)) + \" to \" + str(np.max(X_test)))\n",
    "print(\"Data type: \" + str(X_train.dtype))\n",
    "print(\"\\nLabel Values: \")\n",
    "print(set(list(y_train)))\n",
    "print(\"Data type: \" + str(y_train.dtype))"
   ]
  },
  {
   "cell_type": "markdown",
   "metadata": {
    "id": "HVZzxruCo1NI"
   },
   "source": [
    "## Initialize the neural network with Keras"
   ]
  },
  {
   "cell_type": "code",
   "execution_count": 17,
   "metadata": {
    "id": "0U8tWvj0o1NJ"
   },
   "outputs": [],
   "source": [
    "# Build your network with Keras here\n",
    "import tensorflow as tf\n",
    "fashion_model = tf.keras.Sequential()\n",
    "fashion_model.add(tf.keras.layers.Dense(1024, input_dim=784, activation='relu'))\n",
    "fashion_model.add(tf.keras.layers.Dropout(0.5))\n",
    "fashion_model.add(tf.keras.layers.Dense(512, activation='relu'))\n",
    "fashion_model.add(tf.keras.layers.Dropout(0.35))\n",
    "fashion_model.add(tf.keras.layers.Dense(256, activation='relu'))\n",
    "fashion_model.add(tf.keras.layers.Dropout(0.2))\n",
    "fashion_model.add(tf.keras.layers.Dense(128, activation='relu'))\n",
    "fashion_model.add(tf.keras.layers.Dense(64, activation='relu'))\n",
    "fashion_model.add(tf.keras.layers.Dense(10, activation='softmax'))"
   ]
  },
  {
   "cell_type": "markdown",
   "metadata": {
    "id": "SytJ_P3Do1NL"
   },
   "source": [
    "## Train your network"
   ]
  },
  {
   "cell_type": "code",
   "execution_count": 21,
   "metadata": {
    "colab": {
     "base_uri": "https://localhost:8080/"
    },
    "id": "OPprpt-4o1NM",
    "outputId": "11548db4-6ccc-4ea5-a4ec-cfea15ae9c7c",
    "scrolled": true
   },
   "outputs": [
    {
     "name": "stdout",
     "output_type": "stream",
     "text": [
      "Model: \"sequential\"\n",
      "_________________________________________________________________\n",
      "Layer (type)                 Output Shape              Param #   \n",
      "=================================================================\n",
      "dense (Dense)                (None, 1024)              803840    \n",
      "_________________________________________________________________\n",
      "dropout (Dropout)            (None, 1024)              0         \n",
      "_________________________________________________________________\n",
      "dense_1 (Dense)              (None, 512)               524800    \n",
      "_________________________________________________________________\n",
      "dropout_1 (Dropout)          (None, 512)               0         \n",
      "_________________________________________________________________\n",
      "dense_2 (Dense)              (None, 256)               131328    \n",
      "_________________________________________________________________\n",
      "dropout_2 (Dropout)          (None, 256)               0         \n",
      "_________________________________________________________________\n",
      "dense_3 (Dense)              (None, 128)               32896     \n",
      "_________________________________________________________________\n",
      "dense_4 (Dense)              (None, 64)                8256      \n",
      "_________________________________________________________________\n",
      "dense_5 (Dense)              (None, 10)                650       \n",
      "=================================================================\n",
      "Total params: 1,501,770\n",
      "Trainable params: 1,501,770\n",
      "Non-trainable params: 0\n",
      "_________________________________________________________________\n"
     ]
    }
   ],
   "source": [
    "fashion_model.compile(loss='sparse_categorical_crossentropy',\n",
    "             optimizer='adam',\n",
    "             metrics=['accuracy'])\n",
    "fashion_model.summary()"
   ]
  },
  {
   "cell_type": "code",
   "execution_count": 22,
   "metadata": {
    "colab": {
     "base_uri": "https://localhost:8080/"
    },
    "id": "Io9YQejPo1NM",
    "outputId": "b3808ae0-1d1c-4fee-e369-b0b5ee5ca211"
   },
   "outputs": [
    {
     "name": "stdout",
     "output_type": "stream",
     "text": [
      "Epoch 1/20\n",
      "59/59 - 3s - loss: 0.8559 - accuracy: 0.6847 - val_loss: 0.4636 - val_accuracy: 0.8260\n",
      "Epoch 2/20\n",
      "59/59 - 0s - loss: 0.4728 - accuracy: 0.8286 - val_loss: 0.3967 - val_accuracy: 0.8520\n",
      "Epoch 3/20\n",
      "59/59 - 0s - loss: 0.4191 - accuracy: 0.8477 - val_loss: 0.3550 - val_accuracy: 0.8700\n",
      "Epoch 4/20\n",
      "59/59 - 0s - loss: 0.3909 - accuracy: 0.8576 - val_loss: 0.3379 - val_accuracy: 0.8800\n",
      "Epoch 5/20\n",
      "59/59 - 0s - loss: 0.3738 - accuracy: 0.8652 - val_loss: 0.3374 - val_accuracy: 0.8720\n",
      "Epoch 6/20\n",
      "59/59 - 0s - loss: 0.3595 - accuracy: 0.8683 - val_loss: 0.3214 - val_accuracy: 0.8860\n",
      "Epoch 7/20\n",
      "59/59 - 0s - loss: 0.3459 - accuracy: 0.8719 - val_loss: 0.3168 - val_accuracy: 0.8890\n",
      "Epoch 8/20\n",
      "59/59 - 0s - loss: 0.3354 - accuracy: 0.8772 - val_loss: 0.3192 - val_accuracy: 0.8870\n",
      "Epoch 9/20\n",
      "59/59 - 0s - loss: 0.3308 - accuracy: 0.8781 - val_loss: 0.3126 - val_accuracy: 0.8850\n",
      "Epoch 10/20\n",
      "59/59 - 0s - loss: 0.3267 - accuracy: 0.8792 - val_loss: 0.3121 - val_accuracy: 0.8800\n",
      "Epoch 11/20\n",
      "59/59 - 0s - loss: 0.3162 - accuracy: 0.8821 - val_loss: 0.3189 - val_accuracy: 0.8890\n",
      "Epoch 12/20\n",
      "59/59 - 0s - loss: 0.3103 - accuracy: 0.8847 - val_loss: 0.3004 - val_accuracy: 0.8920\n",
      "Epoch 13/20\n",
      "59/59 - 0s - loss: 0.3050 - accuracy: 0.8864 - val_loss: 0.3055 - val_accuracy: 0.8920\n",
      "Epoch 14/20\n",
      "59/59 - 0s - loss: 0.3024 - accuracy: 0.8874 - val_loss: 0.3024 - val_accuracy: 0.8930\n",
      "Epoch 15/20\n",
      "59/59 - 0s - loss: 0.2975 - accuracy: 0.8899 - val_loss: 0.2964 - val_accuracy: 0.8900\n",
      "Epoch 16/20\n",
      "59/59 - 0s - loss: 0.3022 - accuracy: 0.8888 - val_loss: 0.3052 - val_accuracy: 0.8830\n",
      "Epoch 17/20\n",
      "59/59 - 0s - loss: 0.2964 - accuracy: 0.8902 - val_loss: 0.3027 - val_accuracy: 0.8880\n",
      "Epoch 18/20\n",
      "59/59 - 0s - loss: 0.2922 - accuracy: 0.8917 - val_loss: 0.2830 - val_accuracy: 0.8980\n",
      "Epoch 19/20\n",
      "59/59 - 0s - loss: 0.2876 - accuracy: 0.8927 - val_loss: 0.2801 - val_accuracy: 0.9050\n",
      "Epoch 20/20\n",
      "59/59 - 0s - loss: 0.2796 - accuracy: 0.8963 - val_loss: 0.2963 - val_accuracy: 0.8930\n",
      "Loss:   0.279570609331131 Acc:    0.8963220119476318\n"
     ]
    }
   ],
   "source": [
    "history = fashion_model.fit(X_train, y_train, epochs=20, batch_size=1000, validation_data=(X_val, y_val), verbose=2)\n",
    "print('Loss:  ', history.history['loss'][-1],'Acc:   ', history.history['accuracy'][-1] )"
   ]
  },
  {
   "cell_type": "markdown",
   "metadata": {
    "id": "uYY4T5Veo1NM"
   },
   "source": [
    "## Print the training vs validation curves\n",
    "\n"
   ]
  },
  {
   "cell_type": "code",
   "execution_count": 23,
   "metadata": {
    "colab": {
     "base_uri": "https://localhost:8080/",
     "height": 767
    },
    "id": "WZOkoVw4o1NN",
    "outputId": "4df4467a-f938-46b6-96cd-5dcfbbd231e2"
   },
   "outputs": [
    {
     "data": {
      "image/png": "[encoded data removed]",
      "text/plain": [
       "<Figure size 1080x432 with 1 Axes>"
      ]
     },
     "metadata": {
      "needs_background": "light"
     },
     "output_type": "display_data"
    },
    {
     "data": {
      "image/png": "[encoded data removed]",
      "text/plain": [
       "<Figure size 1080x432 with 1 Axes>"
      ]
     },
     "metadata": {
      "needs_background": "light"
     },
     "output_type": "display_data"
    }
   ],
   "source": [
    "val_acc = history.history['val_accuracy']\n",
    "acc = history.history['accuracy']\n",
    "val_loss = history.history['val_loss']\n",
    "loss = history.history['loss']\n",
    "\n",
    "fig = plt.figure(figsize=(15,6))\n",
    "plt.plot(np.arange(len(val_acc)),val_acc,label='val_accuracy')\n",
    "plt.plot(np.arange(len(acc)),acc,label='accuracy')\n",
    "# since we have 10 classes, 0.1 means the guesses are random, 100% means it's perfectly accurate\n",
    "plt.ylim(0.1, 1.0)\n",
    "plt.xlabel('EPOCHS')\n",
    "plt.ylabel('ACCURACY')\n",
    "plt.legend()\n",
    "plt.grid()\n",
    "plt.show()\n",
    "\n",
    "fig = plt.figure(figsize=(15,6))\n",
    "plt.plot(np.arange(len(val_loss)),val_loss,label='val_loss')\n",
    "plt.plot(np.arange(len(loss)),loss,label='loss')\n",
    "plt.ylim(0.1, 1.0)\n",
    "plt.xlabel('EPOCHS')\n",
    "plt.ylabel('LOSS')\n",
    "plt.legend()\n",
    "plt.grid()\n",
    "plt.show()"
   ]
  },
  {
   "cell_type": "markdown",
   "metadata": {
    "id": "S69kmNvcuF3J"
   },
   "source": [
    "## Caclulate the Accuracy and F1 metric"
   ]
  },
  {
   "cell_type": "code",
   "execution_count": 24,
   "metadata": {
    "id": "c5Ggu_mUo1NN"
   },
   "outputs": [
    {
     "name": "stdout",
     "output_type": "stream",
     "text": [
      "313/313 [==============================] - 1s 4ms/step - loss: 0.3214 - accuracy: 0.8827\n"
     ]
    }
   ],
   "source": [
    "fashion_model.evaluate(X_test, y_test, verbose = 1)\n",
    "predictions = fashion_model.predict(X_test)"
   ]
  },
  {
   "cell_type": "code",
   "execution_count": 25,
   "metadata": {},
   "outputs": [],
   "source": [
    "def multiclass_measures(matrix, label):\n",
    "    true_positives = matrix[label][label]\n",
    "    false_positives = np.delete(matrix[label], label).sum()\n",
    "    true_negatives = np.delete(np.delete(matrix, (label), axis=0), (label), axis=1).sum()\n",
    "    false_negatives = np.delete(matrix, (label), axis=0).sum(axis=0)[label]\n",
    "    return true_positives, false_positives, true_negatives, false_negatives"
   ]
  },
  {
   "cell_type": "code",
   "execution_count": 41,
   "metadata": {},
   "outputs": [
    {
     "name": "stdout",
     "output_type": "stream",
     "text": [
      "Confusion Matrix\n"
     ]
    },
    {
     "data": {
      "text/html": [
       "<div>\n",
       "<style scoped>\n",
       "    .dataframe tbody tr th:only-of-type {\n",
       "        vertical-align: middle;\n",
       "    }\n",
       "\n",
       "    .dataframe tbody tr th {\n",
       "        vertical-align: top;\n",
       "    }\n",
       "\n",
       "    .dataframe thead th {\n",
       "        text-align: right;\n",
       "    }\n",
       "</style>\n",
       "<table border=\"1\" class=\"dataframe\">\n",
       "  <thead>\n",
       "    <tr style=\"text-align: right;\">\n",
       "      <th></th>\n",
       "      <th>precision</th>\n",
       "      <th>recall</th>\n",
       "      <th>accuracy</th>\n",
       "      <th>f1</th>\n",
       "    </tr>\n",
       "  </thead>\n",
       "  <tbody>\n",
       "    <tr>\n",
       "      <th>T-shirt/top</th>\n",
       "      <td>0.898</td>\n",
       "      <td>0.786340</td>\n",
       "      <td>0.9654</td>\n",
       "      <td>0.838469</td>\n",
       "    </tr>\n",
       "    <tr>\n",
       "      <th>Trouser</th>\n",
       "      <td>0.972</td>\n",
       "      <td>0.988810</td>\n",
       "      <td>0.9961</td>\n",
       "      <td>0.980333</td>\n",
       "    </tr>\n",
       "    <tr>\n",
       "      <th>Pullover</th>\n",
       "      <td>0.808</td>\n",
       "      <td>0.772467</td>\n",
       "      <td>0.9570</td>\n",
       "      <td>0.789834</td>\n",
       "    </tr>\n",
       "    <tr>\n",
       "      <th>Dress</th>\n",
       "      <td>0.916</td>\n",
       "      <td>0.866604</td>\n",
       "      <td>0.9775</td>\n",
       "      <td>0.890617</td>\n",
       "    </tr>\n",
       "    <tr>\n",
       "      <th>Coat</th>\n",
       "      <td>0.829</td>\n",
       "      <td>0.752952</td>\n",
       "      <td>0.9557</td>\n",
       "      <td>0.789148</td>\n",
       "    </tr>\n",
       "    <tr>\n",
       "      <th>Sandal</th>\n",
       "      <td>0.959</td>\n",
       "      <td>0.989680</td>\n",
       "      <td>0.9949</td>\n",
       "      <td>0.974099</td>\n",
       "    </tr>\n",
       "    <tr>\n",
       "      <th>Shirt</th>\n",
       "      <td>0.539</td>\n",
       "      <td>0.810526</td>\n",
       "      <td>0.9413</td>\n",
       "      <td>0.647447</td>\n",
       "    </tr>\n",
       "    <tr>\n",
       "      <th>Sneaker</th>\n",
       "      <td>0.972</td>\n",
       "      <td>0.931034</td>\n",
       "      <td>0.9900</td>\n",
       "      <td>0.951076</td>\n",
       "    </tr>\n",
       "    <tr>\n",
       "      <th>Bag</th>\n",
       "      <td>0.978</td>\n",
       "      <td>0.975075</td>\n",
       "      <td>0.9953</td>\n",
       "      <td>0.976535</td>\n",
       "    </tr>\n",
       "    <tr>\n",
       "      <th>Ankle boot</th>\n",
       "      <td>0.956</td>\n",
       "      <td>0.965657</td>\n",
       "      <td>0.9922</td>\n",
       "      <td>0.960804</td>\n",
       "    </tr>\n",
       "  </tbody>\n",
       "</table>\n",
       "</div>"
      ],
      "text/plain": [
       "             precision    recall  accuracy        f1\n",
       "T-shirt/top      0.898  0.786340    0.9654  0.838469\n",
       "Trouser          0.972  0.988810    0.9961  0.980333\n",
       "Pullover         0.808  0.772467    0.9570  0.789834\n",
       "Dress            0.916  0.866604    0.9775  0.890617\n",
       "Coat             0.829  0.752952    0.9557  0.789148\n",
       "Sandal           0.959  0.989680    0.9949  0.974099\n",
       "Shirt            0.539  0.810526    0.9413  0.647447\n",
       "Sneaker          0.972  0.931034    0.9900  0.951076\n",
       "Bag              0.978  0.975075    0.9953  0.976535\n",
       "Ankle boot       0.956  0.965657    0.9922  0.960804"
      ]
     },
     "execution_count": 41,
     "metadata": {},
     "output_type": "execute_result"
    },
    {
     "data": {
      "image/png": "[encoded data removed]",
      "text/plain": [
       "<Figure size 432x432 with 2 Axes>"
      ]
     },
     "metadata": {
      "needs_background": "light"
     },
     "output_type": "display_data"
    }
   ],
   "source": [
    "from sklearn.metrics import classification_report, confusion_matrix\n",
    "import seaborn as sns\n",
    "y_pred = np.argmax(predictions, axis=1)\n",
    "print('Confusion Matrix')\n",
    "cm = confusion_matrix(y_test, y_pred)\n",
    "df_cm = pd.DataFrame(cm, index = [i for i in class_names],\n",
    "                  columns = [i for i in class_names])\n",
    "plt.figure(figsize = (6,6))\n",
    "sns.heatmap(df_cm, annot=True, fmt=\".0f\")\n",
    "# manually computed\n",
    "precision = []\n",
    "recall = []\n",
    "accuracy = []\n",
    "f1 = []\n",
    "for idx, label in enumerate(class_names):\n",
    "    tp, fp, tn, fn = multiclass_measures(cm, idx)\n",
    "    precision.append(tp / (tp + fp))\n",
    "    recall.append(tp / (tp + fn))\n",
    "    accuracy.append((tp + tn) / (tp + fp + tn + fn))\n",
    "    f1.append((2.0 * precision[-1] * recall[-1]) / (precision[-1] + recall[-1]))\n",
    "df_cm = pd.DataFrame(list(zip(*[precision, recall, accuracy, f1])), index = class_names, columns = ['precision','recall','accuracy','f1'])\n",
    "df_cm"
   ]
  }
 ],
 "metadata": {
  "colab": {
   "collapsed_sections": [],
   "name": "fashion-mnist-with-keras-neural-networks.ipynb",
   "provenance": []
  },
  "kernelspec": {
   "display_name": "Python 3 (ipykernel)",
   "language": "python",
   "name": "python3"
  },
  "language_info": {
   "codemirror_mode": {
    "name": "ipython",
    "version": 3
   },
   "file_extension": ".py",
   "mimetype": "text/x-python",
   "name": "python",
   "nbconvert_exporter": "python",
   "pygments_lexer": "ipython3",
   "version": "3.8.8"
  }
 },
 "nbformat": 4,
 "nbformat_minor": 4
}
