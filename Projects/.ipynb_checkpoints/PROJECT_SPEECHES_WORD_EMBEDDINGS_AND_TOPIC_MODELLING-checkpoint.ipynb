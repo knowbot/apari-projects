{
  "nbformat": 4,
  "nbformat_minor": 0,
  "metadata": {
    "colab": {
      "name": "PROJECT - Speeches - Word Embeddings and Topic Modelling.ipynb",
      "provenance": [],
      "collapsed_sections": [],
      "toc_visible": true
    },
    "kernelspec": {
      "name": "python3",
      "display_name": "Python 3"
    },
    "language_info": {
      "name": "python"
    }
  },
  "cells": [
    {
      "cell_type": "markdown",
      "metadata": {
        "id": "MU0n8-HcYw4c"
      },
      "source": [
        "# Project: state-of-the-union speeches"
      ]
    },
    {
      "cell_type": "markdown",
      "metadata": {
        "id": "lbYBECsuc8Em"
      },
      "source": [
        "In this project, we will load and process the `us_president_speeches.csv` file, preprocess the speeches, embed their words and do topic modeling on them.\n",
        "\n",
        "**The expected answers may vary, depending on how you decide to preprocess the speeches**."
      ]
    },
    {
      "cell_type": "markdown",
      "metadata": {
        "id": "DJTL8Chbp43D"
      },
      "source": [
        "## Preamble"
      ]
    },
    {
      "cell_type": "code",
      "metadata": {
        "colab": {
          "base_uri": "https://localhost:8080/"
        },
        "id": "IOiGpCROhcVK",
        "outputId": "ac129649-9bd5-49a9-e25b-9f7ca9db5f04"
      },
      "source": [
        "!pip install --upgrade gensim"
      ],
      "execution_count": null,
      "outputs": [
        {
          "output_type": "stream",
          "text": [
            "Requirement already satisfied: gensim in /usr/local/lib/python3.7/dist-packages (4.0.1)\n",
            "Requirement already satisfied: scipy>=0.18.1 in /usr/local/lib/python3.7/dist-packages (from gensim) (1.4.1)\n",
            "Requirement already satisfied: numpy>=1.11.3 in /usr/local/lib/python3.7/dist-packages (from gensim) (1.21.1)\n",
            "Requirement already satisfied: smart-open>=1.8.1 in /usr/local/lib/python3.7/dist-packages (from gensim) (5.1.0)\n"
          ],
          "name": "stdout"
        }
      ]
    },
    {
      "cell_type": "code",
      "metadata": {
        "colab": {
          "base_uri": "https://localhost:8080/"
        },
        "id": "7esePJ0rlqYz",
        "outputId": "b9c79cc2-2489-49b7-c629-078c86045e3c"
      },
      "source": [
        "!pip install pyldavis"
      ],
      "execution_count": null,
      "outputs": [
        {
          "output_type": "stream",
          "text": [
            "Requirement already satisfied: pyldavis in /usr/local/lib/python3.7/dist-packages (3.3.1)\n",
            "Requirement already satisfied: future in /usr/local/lib/python3.7/dist-packages (from pyldavis) (0.16.0)\n",
            "Requirement already satisfied: jinja2 in /usr/local/lib/python3.7/dist-packages (from pyldavis) (2.11.3)\n",
            "Requirement already satisfied: funcy in /usr/local/lib/python3.7/dist-packages (from pyldavis) (1.16)\n",
            "Requirement already satisfied: numexpr in /usr/local/lib/python3.7/dist-packages (from pyldavis) (2.7.3)\n",
            "Requirement already satisfied: joblib in /usr/local/lib/python3.7/dist-packages (from pyldavis) (1.0.1)\n",
            "Requirement already satisfied: numpy>=1.20.0 in /usr/local/lib/python3.7/dist-packages (from pyldavis) (1.21.1)\n",
            "Requirement already satisfied: pandas>=1.2.0 in /usr/local/lib/python3.7/dist-packages (from pyldavis) (1.3.0)\n",
            "Requirement already satisfied: sklearn in /usr/local/lib/python3.7/dist-packages (from pyldavis) (0.0)\n",
            "Requirement already satisfied: scikit-learn in /usr/local/lib/python3.7/dist-packages (from pyldavis) (0.22.2.post1)\n",
            "Requirement already satisfied: setuptools in /usr/local/lib/python3.7/dist-packages (from pyldavis) (57.2.0)\n",
            "Requirement already satisfied: scipy in /usr/local/lib/python3.7/dist-packages (from pyldavis) (1.4.1)\n",
            "Requirement already satisfied: gensim in /usr/local/lib/python3.7/dist-packages (from pyldavis) (4.0.1)\n",
            "Requirement already satisfied: python-dateutil>=2.7.3 in /usr/local/lib/python3.7/dist-packages (from pandas>=1.2.0->pyldavis) (2.8.1)\n",
            "Requirement already satisfied: pytz>=2017.3 in /usr/local/lib/python3.7/dist-packages (from pandas>=1.2.0->pyldavis) (2018.9)\n",
            "Requirement already satisfied: six>=1.5 in /usr/local/lib/python3.7/dist-packages (from python-dateutil>=2.7.3->pandas>=1.2.0->pyldavis) (1.15.0)\n",
            "Requirement already satisfied: smart-open>=1.8.1 in /usr/local/lib/python3.7/dist-packages (from gensim->pyldavis) (5.1.0)\n",
            "Requirement already satisfied: MarkupSafe>=0.23 in /usr/local/lib/python3.7/dist-packages (from jinja2->pyldavis) (2.0.1)\n"
          ],
          "name": "stdout"
        }
      ]
    },
    {
      "cell_type": "code",
      "metadata": {
        "colab": {
          "base_uri": "https://localhost:8080/"
        },
        "id": "8JwMy2_XdZt7",
        "outputId": "7590a853-d4d7-42a1-ca55-971240584cbd"
      },
      "source": [
        "from typing import List\n",
        "\n",
        "import numpy as np\n",
        "import pandas as pd\n",
        "import seaborn as sns\n",
        "import matplotlib.pyplot as plt\n",
        "\n",
        "import nltk\n",
        "nltk.download(\"wordnet\")\n",
        "nltk.download(\"stopwords\")\n",
        "from nltk import WordNetLemmatizer\n",
        "\n",
        "from wordcloud import WordCloud\n",
        "\n",
        "from gensim.utils import simple_preprocess\n",
        "from gensim.models import Word2Vec, KeyedVectors, LdaMulticore\n",
        "from gensim.corpora import Dictionary\n",
        "\n",
        "import pyLDAvis\n",
        "import pyLDAvis.gensim_models as gensimvis"
      ],
      "execution_count": null,
      "outputs": [
        {
          "output_type": "stream",
          "text": [
            "[nltk_data] Downloading package wordnet to /root/nltk_data...\n",
            "[nltk_data]   Package wordnet is already up-to-date!\n",
            "[nltk_data] Downloading package stopwords to /root/nltk_data...\n",
            "[nltk_data]   Package stopwords is already up-to-date!\n"
          ],
          "name": "stdout"
        },
        {
          "output_type": "stream",
          "text": [
            "/usr/local/lib/python3.7/dist-packages/gensim/similarities/__init__.py:15: UserWarning: The gensim.similarities.levenshtein submodule is disabled, because the optional Levenshtein package <https://pypi.org/project/python-Levenshtein/> is unavailable. Install Levenhstein (e.g. `pip install python-Levenshtein`) to suppress this warning.\n",
            "  warnings.warn(msg)\n",
            "/usr/local/lib/python3.7/dist-packages/past/types/oldstr.py:5: DeprecationWarning: Using or importing the ABCs from 'collections' instead of from 'collections.abc' is deprecated since Python 3.3,and in 3.9 it will stop working\n",
            "  from collections import Iterable\n",
            "/usr/local/lib/python3.7/dist-packages/past/builtins/misc.py:4: DeprecationWarning: Using or importing the ABCs from 'collections' instead of from 'collections.abc' is deprecated since Python 3.3,and in 3.9 it will stop working\n",
            "  from collections import Mapping\n",
            "/usr/local/lib/python3.7/dist-packages/sklearn/decomposition/_lda.py:29: DeprecationWarning: `np.float` is a deprecated alias for the builtin `float`. To silence this warning, use `float` by itself. Doing this will not modify any behavior and is safe. If you specifically wanted the numpy scalar type, use `np.float64` here.\n",
            "Deprecated in NumPy 1.20; for more details and guidance: https://numpy.org/devdocs/release/1.20.0-notes.html#deprecations\n",
            "  EPS = np.finfo(np.float).eps\n"
          ],
          "name": "stderr"
        }
      ]
    },
    {
      "cell_type": "markdown",
      "metadata": {
        "id": "ws1z3ZUfdW2D"
      },
      "source": [
        "## Loading up the data"
      ]
    },
    {
      "cell_type": "markdown",
      "metadata": {
        "id": "hmDcXE3Vd7DH"
      },
      "source": [
        "### Exercise 1"
      ]
    },
    {
      "cell_type": "markdown",
      "metadata": {
        "id": "leOTMfkqd9EU"
      },
      "source": [
        "Load up the `us_president_speeches.csv` into an array named `speeches` and print the first 5 rows."
      ]
    },
    {
      "cell_type": "code",
      "metadata": {
        "colab": {
          "base_uri": "https://localhost:8080/",
          "height": 206
        },
        "id": "bdCywsRDdYyg",
        "outputId": "32bf363b-eef2-472b-b8af-7a873d0d2645"
      },
      "source": [
        ""
      ],
      "execution_count": null,
      "outputs": [
        {
          "output_type": "execute_result",
          "data": {
            "text/html": [
              "<div>\n",
              "<style scoped>\n",
              "    .dataframe tbody tr th:only-of-type {\n",
              "        vertical-align: middle;\n",
              "    }\n",
              "\n",
              "    .dataframe tbody tr th {\n",
              "        vertical-align: top;\n",
              "    }\n",
              "\n",
              "    .dataframe thead th {\n",
              "        text-align: right;\n",
              "    }\n",
              "</style>\n",
              "<table border=\"1\" class=\"dataframe\">\n",
              "  <thead>\n",
              "    <tr style=\"text-align: right;\">\n",
              "      <th></th>\n",
              "      <th>president</th>\n",
              "      <th>year</th>\n",
              "      <th>speech</th>\n",
              "    </tr>\n",
              "  </thead>\n",
              "  <tbody>\n",
              "    <tr>\n",
              "      <th>0</th>\n",
              "      <td>Washington</td>\n",
              "      <td>1791</td>\n",
              "      <td>Fellow-Citizens of the Senate and House of Rep...</td>\n",
              "    </tr>\n",
              "    <tr>\n",
              "      <th>1</th>\n",
              "      <td>Washington</td>\n",
              "      <td>1792</td>\n",
              "      <td>Fellow-Citizens of the Senate and House of Rep...</td>\n",
              "    </tr>\n",
              "    <tr>\n",
              "      <th>2</th>\n",
              "      <td>Washington</td>\n",
              "      <td>1793</td>\n",
              "      <td>Fellow-Citizens of the Senate and House of Rep...</td>\n",
              "    </tr>\n",
              "    <tr>\n",
              "      <th>3</th>\n",
              "      <td>Washington</td>\n",
              "      <td>1794</td>\n",
              "      <td>Fellow-Citizens of the Senate and House of Rep...</td>\n",
              "    </tr>\n",
              "    <tr>\n",
              "      <th>4</th>\n",
              "      <td>Washington</td>\n",
              "      <td>1795</td>\n",
              "      <td>Fellow-Citizens of the Senate and House of Rep...</td>\n",
              "    </tr>\n",
              "  </tbody>\n",
              "</table>\n",
              "</div>"
            ],
            "text/plain": [
              "    president  year                                             speech\n",
              "0  Washington  1791  Fellow-Citizens of the Senate and House of Rep...\n",
              "1  Washington  1792  Fellow-Citizens of the Senate and House of Rep...\n",
              "2  Washington  1793  Fellow-Citizens of the Senate and House of Rep...\n",
              "3  Washington  1794  Fellow-Citizens of the Senate and House of Rep...\n",
              "4  Washington  1795  Fellow-Citizens of the Senate and House of Rep..."
            ]
          },
          "metadata": {
            "tags": []
          },
          "execution_count": 30
        }
      ]
    },
    {
      "cell_type": "markdown",
      "metadata": {
        "id": "obn50REOdxml"
      },
      "source": [
        "### Exercise 2"
      ]
    },
    {
      "cell_type": "markdown",
      "metadata": {
        "id": "w5ImCDXLeO-5"
      },
      "source": [
        "Fill in the `???`s.\n",
        "\n",
        "1. How many speeches are in the DataFrame?\n",
        "2. How many unique presidents are in the DataFrame?\n",
        "3. What's the longest speech? How long is it (in characters)? Who gave it and when?"
      ]
    },
    {
      "cell_type": "code",
      "metadata": {
        "colab": {
          "base_uri": "https://localhost:8080/"
        },
        "id": "_5kfsvf7eiGB",
        "outputId": "9742c67a-522f-4cbe-9a3b-7c9632846a3b"
      },
      "source": [
        "print(\"Nr. Speeches\", ???)\n",
        "print(\"Nr. Presidents\", ???)\n",
        "\n",
        "\n",
        "print(\"Longest speech is at index:\", ???)\n",
        "print(f\"It is {???} characters long.\")\n",
        "\n",
        "president = ???\n",
        "year = ???\n",
        "print(f\"President {president} gave it in {year}\")"
      ],
      "execution_count": null,
      "outputs": [
        {
          "output_type": "stream",
          "text": [
            "Nr. Speeches 227\n",
            "Nr. Presidents 38\n",
            "Longest speech is at index: 189\n",
            "It is 217947 characters long.\n",
            "President Carter gave it in 1981\n"
          ],
          "name": "stdout"
        }
      ]
    },
    {
      "cell_type": "markdown",
      "metadata": {
        "id": "Zu6hbzN9emXj"
      },
      "source": [
        "Expected solution:\n",
        "```\n",
        "Nr. Speeches 227\n",
        "Nr. Presidents 38\n",
        "Longest speech is at index: 189\n",
        "It is 217947 characters long.\n",
        "President Carter gave it in 1981\n",
        "```"
      ]
    },
    {
      "cell_type": "markdown",
      "metadata": {
        "id": "v_GG01Ccf-iP"
      },
      "source": [
        "## Preprocessing the data"
      ]
    },
    {
      "cell_type": "markdown",
      "metadata": {
        "id": "vls4sCt5gLtf"
      },
      "source": [
        "### Exercise 3"
      ]
    },
    {
      "cell_type": "markdown",
      "metadata": {
        "id": "c3uGOE8ZgN04"
      },
      "source": [
        "In this exercise we will write a function that cleans the column `speech` of the dataframe, and returns a corpus of type `List[List[str]]`. Include `\"wa\", \"ha\"` in your list of stopwords."
      ]
    },
    {
      "cell_type": "code",
      "metadata": {
        "id": "OxS2G4_Hh4dq"
      },
      "source": [
        ""
      ],
      "execution_count": null,
      "outputs": []
    },
    {
      "cell_type": "code",
      "metadata": {
        "id": "nCVSDU7HgqZJ"
      },
      "source": [
        ""
      ],
      "execution_count": null,
      "outputs": []
    },
    {
      "cell_type": "markdown",
      "metadata": {
        "id": "TCqidHo8iagj"
      },
      "source": [
        "Define a variable `corpus` with the result of applying this function to our `speeches` df."
      ]
    },
    {
      "cell_type": "code",
      "metadata": {
        "id": "LYj_4pt5iG-T"
      },
      "source": [
        ""
      ],
      "execution_count": null,
      "outputs": []
    },
    {
      "cell_type": "code",
      "metadata": {
        "id": "way1wUzCiJ53"
      },
      "source": [
        ""
      ],
      "execution_count": null,
      "outputs": []
    },
    {
      "cell_type": "markdown",
      "metadata": {
        "id": "hcDKg0vhjg-6"
      },
      "source": [
        "### Exercise 4"
      ]
    },
    {
      "cell_type": "markdown",
      "metadata": {
        "id": "UgeerF2GiuPV"
      },
      "source": [
        "Print the first 50 characters speech alongside the first 10 words of its corresponding `List[str]` inside corpus. Check that both match in a meaningful way."
      ]
    },
    {
      "cell_type": "code",
      "metadata": {
        "colab": {
          "base_uri": "https://localhost:8080/"
        },
        "id": "VkjhAup_ikR8",
        "outputId": "29df61b4-3148-41f7-9f82-fa60a07c3398"
      },
      "source": [
        ""
      ],
      "execution_count": null,
      "outputs": [
        {
          "output_type": "stream",
          "text": [
            "Fellow-Citizens of the Senate and House of Represe\n",
            "['fellow', 'citizen', 'senate', 'house', 'representative', 'vain', 'may', 'expect', 'peace', 'indian']\n"
          ],
          "name": "stdout"
        }
      ]
    },
    {
      "cell_type": "markdown",
      "metadata": {
        "id": "asQYQlLlipjF"
      },
      "source": [
        "Expected answer:\n",
        "\n",
        "```\n",
        "Fellow-Citizens of the Senate and House of Represe\n",
        "['fellow', 'citizen', 'senate', 'house', 'representative', 'vain', 'may', 'expect', 'peace', 'indian']\n",
        "```"
      ]
    },
    {
      "cell_type": "markdown",
      "metadata": {
        "id": "S7qw3KSJjOwK"
      },
      "source": [
        "### Exercise 5"
      ]
    },
    {
      "cell_type": "markdown",
      "metadata": {
        "id": "PQjaTmLkjpLn"
      },
      "source": [
        "Define a `Dictionary` on this corpus and call it `dct`. How many unique tokens are there?"
      ]
    },
    {
      "cell_type": "code",
      "metadata": {
        "id": "PTeanWd2jkyF"
      },
      "source": [
        ""
      ],
      "execution_count": null,
      "outputs": []
    },
    {
      "cell_type": "code",
      "metadata": {
        "id": "Bpup0V2cjx5R"
      },
      "source": [
        ""
      ],
      "execution_count": null,
      "outputs": []
    },
    {
      "cell_type": "markdown",
      "metadata": {
        "id": "fpQqRXc3j7x5"
      },
      "source": [
        "## Embedding words"
      ]
    },
    {
      "cell_type": "markdown",
      "metadata": {
        "id": "s_gWUFc-j-Y6"
      },
      "source": [
        "### Exercise 6"
      ]
    },
    {
      "cell_type": "markdown",
      "metadata": {
        "id": "CYzgRhmakApk"
      },
      "source": [
        "Train a `word2vec` model using `gensim`'s `Word2Vec`. Call it `model_w2v`. Leave all the hyperparameters as the default ones."
      ]
    },
    {
      "cell_type": "code",
      "metadata": {
        "id": "4CGjB7w8kJuL"
      },
      "source": [
        ""
      ],
      "execution_count": null,
      "outputs": []
    },
    {
      "cell_type": "markdown",
      "metadata": {
        "id": "SCynb7mBWtr9"
      },
      "source": [
        "### Exercise 7"
      ]
    },
    {
      "cell_type": "markdown",
      "metadata": {
        "id": "oIQMzdkhWv3N"
      },
      "source": [
        "What's the most similar word to `woman` according to the model? What about `senate`?"
      ]
    },
    {
      "cell_type": "code",
      "metadata": {
        "id": "HZHcwf6hkO5I"
      },
      "source": [
        ""
      ],
      "execution_count": null,
      "outputs": []
    },
    {
      "cell_type": "code",
      "metadata": {
        "id": "B9MZT6Fsk2cW"
      },
      "source": [
        ""
      ],
      "execution_count": null,
      "outputs": []
    },
    {
      "cell_type": "markdown",
      "metadata": {
        "id": "fn4vLyhxXdTY"
      },
      "source": [
        "## Getting topics"
      ]
    },
    {
      "cell_type": "markdown",
      "metadata": {
        "id": "TKMeY0APXs42"
      },
      "source": [
        "### Exercise 8"
      ]
    },
    {
      "cell_type": "markdown",
      "metadata": {
        "id": "eOy64cQEXu3K"
      },
      "source": [
        "Define a `bows` variable with the result of applying `dct.doc2bow` to all documents in `corpus`."
      ]
    },
    {
      "cell_type": "code",
      "metadata": {
        "id": "-pBLA4jsiaW9"
      },
      "source": [
        ""
      ],
      "execution_count": null,
      "outputs": []
    },
    {
      "cell_type": "markdown",
      "metadata": {
        "id": "St7tu9NAidfj"
      },
      "source": [
        "### Exercise 9"
      ]
    },
    {
      "cell_type": "markdown",
      "metadata": {
        "id": "IkToHGwfift7"
      },
      "source": [
        "Fit a Latent Dirichlet Allocation to our bags-of-words `bows` using `gensim`'s `LdaMulticore` for 5, 10, 15 and 20 topics. To get comparable results, set the `random_state` to my favorite number, 42."
      ]
    },
    {
      "cell_type": "code",
      "metadata": {
        "id": "vSOd-TeHiof6"
      },
      "source": [
        ""
      ],
      "execution_count": null,
      "outputs": []
    },
    {
      "cell_type": "markdown",
      "metadata": {
        "id": "AytIAYwhjDW9"
      },
      "source": [
        "### Exercise 10"
      ]
    },
    {
      "cell_type": "markdown",
      "metadata": {
        "id": "CiIIIDEjjlaG"
      },
      "source": [
        "Plot a line with number of topics (5, 10, 15 and 20) in the x axis, and log-perplexity of the model in the y axis. Interpret it. What does the log-perplexity usually say?"
      ]
    },
    {
      "cell_type": "code",
      "metadata": {
        "id": "wiX6_ukBjuLS"
      },
      "source": [
        ""
      ],
      "execution_count": null,
      "outputs": []
    },
    {
      "cell_type": "code",
      "metadata": {
        "id": "yM2waxN9jxYH"
      },
      "source": [
        ""
      ],
      "execution_count": null,
      "outputs": []
    },
    {
      "cell_type": "markdown",
      "metadata": {
        "id": "EB7ljeY5j8uc"
      },
      "source": [
        "### Exercise 11"
      ]
    },
    {
      "cell_type": "markdown",
      "metadata": {
        "id": "xwHbrul-lztA"
      },
      "source": [
        "Use `gensimvis` to visualize the model with 20 topics. (The result might be lackluster, why?)"
      ]
    },
    {
      "cell_type": "code",
      "metadata": {
        "id": "BtAj_tcNmEAI"
      },
      "source": [
        ""
      ],
      "execution_count": null,
      "outputs": []
    }
  ]
}