{
 "cells": [
  {
   "cell_type": "markdown",
   "metadata": {
    "id": "J4ByqXCF1mG3"
   },
   "source": [
    "# Project - Deep Generative Models"
   ]
  },
  {
   "cell_type": "markdown",
   "metadata": {
    "id": "eaCZ1OO-2gdR"
   },
   "source": [
    "In this project we will explore three main things:\n",
    "1. The relationship between linear autoencoders and PCA.\n",
    "2. Training Generative Adversarial Networks.\n",
    "3. Using already-trained GANs.\n",
    "\n",
    "\n",
    "**Remember to activate GPUs in Colab**."
   ]
  },
  {
   "cell_type": "markdown",
   "metadata": {
    "id": "JDISU76i36WQ"
   },
   "source": [
    "## Implementing Autoencoders"
   ]
  },
  {
   "cell_type": "markdown",
   "metadata": {
    "id": "QBjY0bI73-r4"
   },
   "source": [
    "In these exercises we will implement autoencoders in PyTorch."
   ]
  },
  {
   "cell_type": "code",
   "execution_count": 1,
   "metadata": {
    "colab": {
     "base_uri": "https://localhost:8080/"
    },
    "executionInfo": {
     "elapsed": 843,
     "status": "ok",
     "timestamp": 1627765454774,
     "user": {
      "displayName": "Miguel González Duque",
      "photoUrl": "https://lh3.googleusercontent.com/a-/AOh14GimSzbAlN9R2AMUkPo6-Y5Y2iNWJXP37U_IyAKQ=s64",
      "userId": "07264348204271089916"
     },
     "user_tz": -120
    },
    "id": "d3dXXyv44igt",
    "outputId": "5d8485a6-36f3-4385-ef8a-9f2ec828d21e"
   },
   "outputs": [
    {
     "name": "stderr",
     "output_type": "stream",
     "text": [
      "C:\\Anaconda3\\lib\\site-packages\\torchvision\\datasets\\mnist.py:498: UserWarning: The given NumPy array is not writeable, and PyTorch does not support non-writeable tensors. This means you can write to the underlying (supposedly non-writeable) NumPy array using the tensor. You may want to copy the array to protect its data or make it writeable before converting it to a tensor. This type of warning will be suppressed for the rest of this program. (Triggered internally at  ..\\torch\\csrc\\utils\\tensor_numpy.cpp:180.)\n",
      "  return torch.from_numpy(parsed.astype(m[2], copy=False)).view(*s)\n"
     ]
    }
   ],
   "source": [
    "import torch\n",
    "import torch.nn as nn\n",
    "from torch.utils.data import TensorDataset, DataLoader\n",
    "from torchvision.datasets import MNIST\n",
    "import numpy as np\n",
    "import matplotlib.pyplot as plt\n",
    "\n",
    "mnist = MNIST('../data', train=True, download=True)"
   ]
  },
  {
   "cell_type": "markdown",
   "metadata": {
    "id": "fhf7MWwf6Lx1"
   },
   "source": [
    "### Exercise 1"
   ]
  },
  {
   "cell_type": "markdown",
   "metadata": {
    "id": "EUiYc1Dm6OJ6"
   },
   "source": [
    "Below you will find a boilerplate code for a Linear Autoencoder. We will use it on MNIST data, and compare with the result of reducing the dimensionality using PCA.\n",
    "\n",
    "1. Fill the `self.encoder` and `self.decoder` to be linear layers from `28*28` to `2` and from `2` to `28*28` respectively. Implement the decoder to have a `sigmoid` activation function.\n",
    "2. Define a `forward` function that represents the forward pass of the network: encode the input `x`, and then decode it to get `x_tilde`.\n",
    "3. Why did we go for a `sigmoid` activation in the decoder?"
   ]
  },
  {
   "cell_type": "code",
   "execution_count": 2,
   "metadata": {
    "executionInfo": {
     "elapsed": 11,
     "status": "ok",
     "timestamp": 1627765454775,
     "user": {
      "displayName": "Miguel González Duque",
      "photoUrl": "https://lh3.googleusercontent.com/a-/AOh14GimSzbAlN9R2AMUkPo6-Y5Y2iNWJXP37U_IyAKQ=s64",
      "userId": "07264348204271089916"
     },
     "user_tz": -120
    },
    "id": "VeyBXMrO4mxS"
   },
   "outputs": [],
   "source": [
    "class LinearAutoEncoder(nn.Module):\n",
    "    def __init__(self):\n",
    "        super(LinearAutoEncoder, self).__init__()\n",
    "        self.encoder = nn.Linear(28*28, 2)\n",
    "        self.decoder = nn.Sequential(\n",
    "            nn.Linear(2, 28*28),\n",
    "            nn.Sigmoid()\n",
    "        )\n",
    "\n",
    "    def encode(self, x: torch.Tensor) -> torch.Tensor:\n",
    "        return self.encoder(x)\n",
    "\n",
    "    def decode(self, z: torch.Tensor) -> torch.Tensor:\n",
    "        return self.decoder(z)\n",
    "\n",
    "    def forward(self, x: torch.Tensor) -> torch.Tensor:\n",
    "        x_tilde = self.decoder(self.encoder(x))\n",
    "        return x_tilde"
   ]
  },
  {
   "cell_type": "code",
   "execution_count": 3,
   "metadata": {
    "colab": {
     "base_uri": "https://localhost:8080/"
    },
    "executionInfo": {
     "elapsed": 10,
     "status": "ok",
     "timestamp": 1627765454775,
     "user": {
      "displayName": "Miguel González Duque",
      "photoUrl": "https://lh3.googleusercontent.com/a-/AOh14GimSzbAlN9R2AMUkPo6-Y5Y2iNWJXP37U_IyAKQ=s64",
      "userId": "07264348204271089916"
     },
     "user_tz": -120
    },
    "id": "snAI4UIs586M",
    "outputId": "024d7b26-3879-4e19-9a29-066dde18334b"
   },
   "outputs": [
    {
     "name": "stdout",
     "output_type": "stream",
     "text": [
      "LinearAutoEncoder(\n",
      "  (encoder): Linear(in_features=784, out_features=2, bias=True)\n",
      "  (decoder): Sequential(\n",
      "    (0): Linear(in_features=2, out_features=784, bias=True)\n",
      "    (1): Sigmoid()\n",
      "  )\n",
      ")\n"
     ]
    }
   ],
   "source": [
    "lae = LinearAutoEncoder()\n",
    "print(lae)"
   ]
  },
  {
   "cell_type": "markdown",
   "metadata": {
    "id": "ZBiMU7Eo6AAs"
   },
   "source": [
    "### Exercise 2"
   ]
  },
  {
   "cell_type": "markdown",
   "metadata": {
    "id": "90GkV05Y7U9u"
   },
   "source": [
    "Let's preprocess the `mnist.data`.\n",
    "1. Call it `x`.\n",
    "2. Normalize by dividing `x` by `255.0`.\n",
    "3. How many digits are in `x`?\n",
    "4. Reshape x to be `(x.shape[0], 28*28)`"
   ]
  },
  {
   "cell_type": "code",
   "execution_count": 4,
   "metadata": {
    "colab": {
     "base_uri": "https://localhost:8080/"
    },
    "executionInfo": {
     "elapsed": 9,
     "status": "ok",
     "timestamp": 1627765454776,
     "user": {
      "displayName": "Miguel González Duque",
      "photoUrl": "https://lh3.googleusercontent.com/a-/AOh14GimSzbAlN9R2AMUkPo6-Y5Y2iNWJXP37U_IyAKQ=s64",
      "userId": "07264348204271089916"
     },
     "user_tz": -120
    },
    "id": "H8N1qDcK76kF",
    "outputId": "10fd05c6-7265-48c0-d28a-1f7733e704cc"
   },
   "outputs": [
    {
     "name": "stdout",
     "output_type": "stream",
     "text": [
      "tensor(0.)\n",
      "tensor(1.)\n"
     ]
    },
    {
     "data": {
      "text/plain": [
       "torch.Size([60000, 28, 28])"
      ]
     },
     "execution_count": 4,
     "metadata": {},
     "output_type": "execute_result"
    }
   ],
   "source": [
    "x = mnist.data\n",
    "x = torch.div(x, 255.0)\n",
    "print(torch.min(x))\n",
    "print(torch.max(x))\n",
    "x.size()"
   ]
  },
  {
   "cell_type": "code",
   "execution_count": 5,
   "metadata": {
    "colab": {
     "base_uri": "https://localhost:8080/"
    },
    "executionInfo": {
     "elapsed": 7,
     "status": "ok",
     "timestamp": 1627765454776,
     "user": {
      "displayName": "Miguel González Duque",
      "photoUrl": "https://lh3.googleusercontent.com/a-/AOh14GimSzbAlN9R2AMUkPo6-Y5Y2iNWJXP37U_IyAKQ=s64",
      "userId": "07264348204271089916"
     },
     "user_tz": -120
    },
    "id": "wJyp0Nn3_ylQ",
    "outputId": "d98d0f52-c5be-4814-db34-cc8349bc13a3"
   },
   "outputs": [
    {
     "data": {
      "text/plain": [
       "torch.Size([60000, 784])"
      ]
     },
     "execution_count": 5,
     "metadata": {},
     "output_type": "execute_result"
    }
   ],
   "source": [
    "x = torch.reshape(x, (-1, 784))\n",
    "x.size()"
   ]
  },
  {
   "cell_type": "markdown",
   "metadata": {
    "id": "3fNhJPey9L76"
   },
   "source": [
    "### Exercise 3"
   ]
  },
  {
   "cell_type": "markdown",
   "metadata": {
    "id": "1FNbKYPT9gI7"
   },
   "source": [
    "Plot the first 3 digits using `plt.subplots`. Remember to use `.detach().numpy()` if you want to plot images using `matplotlib`."
   ]
  },
  {
   "cell_type": "code",
   "execution_count": 6,
   "metadata": {
    "colab": {
     "base_uri": "https://localhost:8080/",
     "height": 129
    },
    "executionInfo": {
     "elapsed": 390,
     "status": "ok",
     "timestamp": 1627765455161,
     "user": {
      "displayName": "Miguel González Duque",
      "photoUrl": "https://lh3.googleusercontent.com/a-/AOh14GimSzbAlN9R2AMUkPo6-Y5Y2iNWJXP37U_IyAKQ=s64",
      "userId": "07264348204271089916"
     },
     "user_tz": -120
    },
    "id": "kZ1dFFZF9sQc",
    "outputId": "180f623a-e649-4ed9-9ac9-7078d226fcd9"
   },
   "outputs": [
    {
     "data": {
      "image/png": "[encoded data removed]",
      "text/plain": [
       "<Figure size 432x288 with 3 Axes>"
      ]
     },
     "metadata": {
      "needs_background": "light"
     },
     "output_type": "display_data"
    }
   ],
   "source": [
    "for i in range(3):\n",
    "    plt.subplot(3,3,i+1)\n",
    "    plt.imshow(x[i].reshape(28,28), interpolation='none')\n",
    "    plt.tight_layout()"
   ]
  },
  {
   "cell_type": "markdown",
   "metadata": {
    "id": "PlHdtR2Q-CU2"
   },
   "source": [
    "### Exercise 4"
   ]
  },
  {
   "cell_type": "markdown",
   "metadata": {
    "id": "HKI6fFnv-vQv"
   },
   "source": [
    "Let's define the loss function for the training. In this case, use the **sum-of-squares reconstruction error**. Assume the inputs `x` and `x_prime` are flat vectors. (Hint. Check `MSELoss`)"
   ]
  },
  {
   "cell_type": "code",
   "execution_count": 7,
   "metadata": {
    "executionInfo": {
     "elapsed": 5,
     "status": "ok",
     "timestamp": 1627765455161,
     "user": {
      "displayName": "Miguel González Duque",
      "photoUrl": "https://lh3.googleusercontent.com/a-/AOh14GimSzbAlN9R2AMUkPo6-Y5Y2iNWJXP37U_IyAKQ=s64",
      "userId": "07264348204271089916"
     },
     "user_tz": -120
    },
    "id": "XCR0yhhQ_C_U"
   },
   "outputs": [],
   "source": [
    "def loss_function(x, x_prime) -> torch.Tensor:\n",
    "    loss =  nn.MSELoss()\n",
    "    return loss(x, x_prime)"
   ]
  },
  {
   "cell_type": "markdown",
   "metadata": {
    "id": "Wrqt_QY__78B"
   },
   "source": [
    "### Exercise 5"
   ]
  },
  {
   "cell_type": "markdown",
   "metadata": {
    "id": "bnpMFPA5_9FK"
   },
   "source": [
    "Now we train:\n",
    "1. Define your favorite optimizer, with your favorite learning rate.\n",
    "2. Below you will find a boilerplate function for the `train` function. Fill in the blanks. We will overfit the model, since the goal here is to practice with AEs, not to get perfect reconstructions.\n",
    "3. Run the `train` function on the `lae` model with the `data_loader` we defined, and 50 epochs."
   ]
  },
  {
   "cell_type": "code",
   "execution_count": 8,
   "metadata": {
    "executionInfo": {
     "elapsed": 3313,
     "status": "ok",
     "timestamp": 1627765458470,
     "user": {
      "displayName": "Miguel González Duque",
      "photoUrl": "https://lh3.googleusercontent.com/a-/AOh14GimSzbAlN9R2AMUkPo6-Y5Y2iNWJXP37U_IyAKQ=s64",
      "userId": "07264348204271089916"
     },
     "user_tz": -120
    },
    "id": "O11dZSy0Blnc"
   },
   "outputs": [],
   "source": [
    "# Defining the things we will need.\n",
    "dataset = TensorDataset(x)\n",
    "data_loader = DataLoader(dataset, batch_size=64, shuffle=True)\n",
    "device = torch.device(\"cuda\" if torch.cuda.is_available() else \"cpu\")\n",
    "lae = LinearAutoEncoder().to(device)"
   ]
  },
  {
   "cell_type": "code",
   "execution_count": 9,
   "metadata": {
    "executionInfo": {
     "elapsed": 6,
     "status": "ok",
     "timestamp": 1627765458472,
     "user": {
      "displayName": "Miguel González Duque",
      "photoUrl": "https://lh3.googleusercontent.com/a-/AOh14GimSzbAlN9R2AMUkPo6-Y5Y2iNWJXP37U_IyAKQ=s64",
      "userId": "07264348204271089916"
     },
     "user_tz": -120
    },
    "id": "E-DrXd_DAU5s"
   },
   "outputs": [],
   "source": [
    "lr = 0.01\n",
    "optimizer = torch.optim.Adam(lae.parameters(), lr)"
   ]
  },
  {
   "cell_type": "code",
   "execution_count": 10,
   "metadata": {
    "executionInfo": {
     "elapsed": 5,
     "status": "ok",
     "timestamp": 1627765458473,
     "user": {
      "displayName": "Miguel González Duque",
      "photoUrl": "https://lh3.googleusercontent.com/a-/AOh14GimSzbAlN9R2AMUkPo6-Y5Y2iNWJXP37U_IyAKQ=s64",
      "userId": "07264348204271089916"
     },
     "user_tz": -120
    },
    "id": "FqQpl08NAam-"
   },
   "outputs": [],
   "source": [
    "def train(model: LinearAutoEncoder, data_loader: DataLoader, optimizer: torch.optim.Optimizer, epochs: int):\n",
    "    model.train()\n",
    "    for epoch in range(epochs):\n",
    "        if epoch % 10 == 0 or epoch == epochs - 1:\n",
    "            print(f\"Epoch: {epoch}\", end=\" \")\n",
    "\n",
    "        running_epoch_loss = 0.0\n",
    "        for batch in data_loader:\n",
    "            x_batch = batch[0].to(device)\n",
    "\n",
    "            # Reset the gradients to zero in the optimizer\n",
    "            optimizer.zero_grad()\n",
    "\n",
    "            # Do a forward pass of this batch on the model\n",
    "            x_prime = model.forward(x_batch)\n",
    "\n",
    "            # Compute the loss\n",
    "            loss = loss_function(x_batch, x_prime)\n",
    "            running_epoch_loss += loss.item()\n",
    "\n",
    "            # Propagate the loss backwards\n",
    "            loss.backward()\n",
    "\n",
    "            # Do a step in the optimizer\n",
    "            optimizer.step()\n",
    "\n",
    "        if epoch % 10 == 0 or epoch == epochs - 1:    \n",
    "            print(f\"loss: {running_epoch_loss / len(dataset)}\")"
   ]
  },
  {
   "cell_type": "code",
   "execution_count": 11,
   "metadata": {
    "colab": {
     "base_uri": "https://localhost:8080/"
    },
    "executionInfo": {
     "elapsed": 65966,
     "status": "ok",
     "timestamp": 1627765524434,
     "user": {
      "displayName": "Miguel González Duque",
      "photoUrl": "https://lh3.googleusercontent.com/a-/AOh14GimSzbAlN9R2AMUkPo6-Y5Y2iNWJXP37U_IyAKQ=s64",
      "userId": "07264348204271089916"
     },
     "user_tz": -120
    },
    "id": "hlanUIZbDPms",
    "outputId": "619ddd2c-d464-4d1a-a177-0a93831271fd"
   },
   "outputs": [
    {
     "name": "stdout",
     "output_type": "stream",
     "text": [
      "Epoch: 0 loss: 0.0010609700690954924\n",
      "Epoch: 10 loss: 0.0008670925823971629\n",
      "Epoch: 20 loss: 0.0008660067591195305\n",
      "Epoch: 30 loss: 0.000865824094042182\n",
      "Epoch: 40 loss: 0.0008656366803993781\n",
      "Epoch: 49 loss: 0.0008657054073487719\n"
     ]
    }
   ],
   "source": [
    "train(lae, data_loader, optimizer, 50)"
   ]
  },
  {
   "cell_type": "markdown",
   "metadata": {
    "id": "EGVudlJ2Dfij"
   },
   "source": [
    "### Exercise 6"
   ]
  },
  {
   "cell_type": "markdown",
   "metadata": {
    "id": "TiVUjcgMFog7"
   },
   "source": [
    "Let's print a number and it's reconstruction according to the AE:\n",
    "1. Make a 2-figure subplot.\n",
    "2. In one axis, plot the first digit `x[0].view(28, 28)`\n",
    "3. In another, plot the reconstruction `lae(x[0]).view(28, 28)`.\n",
    "\n",
    "**Warning**. You might need to use `.to(device)` when running on GPU, and `.cpu()` for plotting."
   ]
  },
  {
   "cell_type": "code",
   "execution_count": 12,
   "metadata": {
    "colab": {
     "base_uri": "https://localhost:8080/",
     "height": 218
    },
    "executionInfo": {
     "elapsed": 497,
     "status": "ok",
     "timestamp": 1627765524916,
     "user": {
      "displayName": "Miguel González Duque",
      "photoUrl": "https://lh3.googleusercontent.com/a-/AOh14GimSzbAlN9R2AMUkPo6-Y5Y2iNWJXP37U_IyAKQ=s64",
      "userId": "07264348204271089916"
     },
     "user_tz": -120
    },
    "id": "aCropa8jF4y-",
    "outputId": "d62648d8-10e4-4a3a-a57b-6ce31a102776"
   },
   "outputs": [
    {
     "data": {
      "text/plain": [
       "<matplotlib.image.AxesImage at 0x1601b4c9be0>"
      ]
     },
     "execution_count": 12,
     "metadata": {},
     "output_type": "execute_result"
    },
    {
     "data": {
      "image/png": "[encoded data removed]",
      "text/plain": [
       "<Figure size 432x288 with 2 Axes>"
      ]
     },
     "metadata": {
      "needs_background": "light"
     },
     "output_type": "display_data"
    }
   ],
   "source": [
    "plt.subplot(1,2,1)\n",
    "plt.imshow(x[0].view(28,28), interpolation='none')\n",
    "plt.subplot(1,2,2)\n",
    "lae_cpu = lae.cpu()\n",
    "plt.imshow(lae_cpu(x[0]).detach().numpy().reshape(28,28), interpolation='none')\n"
   ]
  },
  {
   "cell_type": "markdown",
   "metadata": {
    "id": "rFLSxZMk3kZI"
   },
   "source": [
    "## A better Autoencoder"
   ]
  },
  {
   "cell_type": "markdown",
   "metadata": {
    "id": "-R4bynIj4QlZ"
   },
   "source": [
    "As you might have seen, the reconstructions of a linear autoencoder on MNIST are not great. In these three exercises we use the code we have already implemented to train a deeper non-linear autoencoder."
   ]
  },
  {
   "cell_type": "markdown",
   "metadata": {
    "id": "nR_AGE2G4bYJ"
   },
   "source": [
    "### Exercise 7"
   ]
  },
  {
   "cell_type": "markdown",
   "metadata": {
    "id": "8fH5JOmw4eDL"
   },
   "source": [
    "In the following you will find an implementation for an autoencoder with one hidden layer in each the encoder and decoder. Fill in the blanks. We leave it up to you to select the number for the amount of nodes in the hidden layers. Remember to add a sigmoid activation to the decoder (why?).\n",
    "\n",
    "R: "
   ]
  },
  {
   "cell_type": "code",
   "execution_count": 13,
   "metadata": {
    "executionInfo": {
     "elapsed": 9,
     "status": "ok",
     "timestamp": 1627765524917,
     "user": {
      "displayName": "Miguel González Duque",
      "photoUrl": "https://lh3.googleusercontent.com/a-/AOh14GimSzbAlN9R2AMUkPo6-Y5Y2iNWJXP37U_IyAKQ=s64",
      "userId": "07264348204271089916"
     },
     "user_tz": -120
    },
    "id": "D9OM9Eaa47qO"
   },
   "outputs": [],
   "source": [
    "class AutoEncoder(nn.Module):\n",
    "    def __init__(self):\n",
    "        super(AutoEncoder, self).__init__()\n",
    "        n_hidden = 128\n",
    "        self.encoder = nn.Sequential(\n",
    "          nn.Linear(784, n_hidden),\n",
    "          nn.Linear(n_hidden, n_hidden),\n",
    "          nn.Linear(n_hidden, 2)\n",
    "        ) \n",
    "\n",
    "        self.decoder = nn.Sequential(\n",
    "          nn.Linear(2, n_hidden),\n",
    "          nn.Linear(n_hidden, n_hidden),\n",
    "          nn.Linear(n_hidden, 784),\n",
    "          nn.Sigmoid()\n",
    "        ) \n",
    "\n",
    "    def encode(self, x: torch.Tensor) -> torch.Tensor:\n",
    "        return self.encoder(x)\n",
    "  \n",
    "    def decode(self, z: torch.Tensor) -> torch.Tensor:\n",
    "        return self.decoder(z)\n",
    "  \n",
    "    def forward(self, x: torch.Tensor) -> torch.Tensor:\n",
    "        x_tilde = self.decoder(self.encoder(x))\n",
    "        return x_tilde"
   ]
  },
  {
   "cell_type": "code",
   "execution_count": 14,
   "metadata": {
    "colab": {
     "base_uri": "https://localhost:8080/"
    },
    "executionInfo": {
     "elapsed": 10,
     "status": "ok",
     "timestamp": 1627765524918,
     "user": {
      "displayName": "Miguel González Duque",
      "photoUrl": "https://lh3.googleusercontent.com/a-/AOh14GimSzbAlN9R2AMUkPo6-Y5Y2iNWJXP37U_IyAKQ=s64",
      "userId": "07264348204271089916"
     },
     "user_tz": -120
    },
    "id": "9xD6dsZi5hUF",
    "outputId": "6f52e1ba-efb2-4e50-92a1-9b70f3850853"
   },
   "outputs": [
    {
     "name": "stdout",
     "output_type": "stream",
     "text": [
      "AutoEncoder(\n",
      "  (encoder): Sequential(\n",
      "    (0): Linear(in_features=784, out_features=128, bias=True)\n",
      "    (1): Linear(in_features=128, out_features=128, bias=True)\n",
      "    (2): Linear(in_features=128, out_features=2, bias=True)\n",
      "  )\n",
      "  (decoder): Sequential(\n",
      "    (0): Linear(in_features=2, out_features=128, bias=True)\n",
      "    (1): Linear(in_features=128, out_features=128, bias=True)\n",
      "    (2): Linear(in_features=128, out_features=784, bias=True)\n",
      "    (3): Sigmoid()\n",
      "  )\n",
      ")\n"
     ]
    }
   ],
   "source": [
    "ae = AutoEncoder().to(device)\n",
    "print(ae)"
   ]
  },
  {
   "cell_type": "markdown",
   "metadata": {
    "id": "QF8SiYEr5jJL"
   },
   "source": [
    "### Exercise 8"
   ]
  },
  {
   "cell_type": "markdown",
   "metadata": {
    "id": "cRfEFJyU5rm2"
   },
   "source": [
    "1. Create an optimizer of the parameters of your autoencoder `ae`.\n",
    "2. Use the `train` function we defined above to train your autoencoder `ae`. Train for 50 epochs."
   ]
  },
  {
   "cell_type": "code",
   "execution_count": 15,
   "metadata": {
    "executionInfo": {
     "elapsed": 7,
     "status": "ok",
     "timestamp": 1627765524918,
     "user": {
      "displayName": "Miguel González Duque",
      "photoUrl": "https://lh3.googleusercontent.com/a-/AOh14GimSzbAlN9R2AMUkPo6-Y5Y2iNWJXP37U_IyAKQ=s64",
      "userId": "07264348204271089916"
     },
     "user_tz": -120
    },
    "id": "JMY5lTxS6MIC"
   },
   "outputs": [],
   "source": [
    "ae_lr = 0.001\n",
    "ae_optimizer = torch.optim.Adam(ae.parameters(), ae_lr)"
   ]
  },
  {
   "cell_type": "code",
   "execution_count": 16,
   "metadata": {
    "colab": {
     "base_uri": "https://localhost:8080/"
    },
    "executionInfo": {
     "elapsed": 93831,
     "status": "ok",
     "timestamp": 1627765618742,
     "user": {
      "displayName": "Miguel González Duque",
      "photoUrl": "https://lh3.googleusercontent.com/a-/AOh14GimSzbAlN9R2AMUkPo6-Y5Y2iNWJXP37U_IyAKQ=s64",
      "userId": "07264348204271089916"
     },
     "user_tz": -120
    },
    "id": "EfX9eNuC6R0K",
    "outputId": "89c86c44-bc77-46a7-96f6-858cd67f3dc6"
   },
   "outputs": [
    {
     "name": "stdout",
     "output_type": "stream",
     "text": [
      "Epoch: 0 loss: 0.0009146983506778876\n",
      "Epoch: 10 loss: 0.0008629569317524632\n",
      "Epoch: 20 loss: 0.0008623350116113822\n",
      "Epoch: 30 loss: 0.0008621534084901213\n",
      "Epoch: 40 loss: 0.0008620422191917896\n",
      "Epoch: 49 loss: 0.0008618840578943491\n"
     ]
    }
   ],
   "source": [
    "train(ae, data_loader, ae_optimizer, 50)"
   ]
  },
  {
   "cell_type": "markdown",
   "metadata": {
    "id": "25g2BM7Q6Vhw"
   },
   "source": [
    "### Exercise 9"
   ]
  },
  {
   "cell_type": "markdown",
   "metadata": {
    "id": "WmeHsrb56glQ"
   },
   "source": [
    "Print the reconstruction of the first digit in a similar way as in exercise 6."
   ]
  },
  {
   "cell_type": "code",
   "execution_count": 17,
   "metadata": {
    "colab": {
     "base_uri": "https://localhost:8080/",
     "height": 218
    },
    "executionInfo": {
     "elapsed": 15,
     "status": "ok",
     "timestamp": 1627765618743,
     "user": {
      "displayName": "Miguel González Duque",
      "photoUrl": "https://lh3.googleusercontent.com/a-/AOh14GimSzbAlN9R2AMUkPo6-Y5Y2iNWJXP37U_IyAKQ=s64",
      "userId": "07264348204271089916"
     },
     "user_tz": -120
    },
    "id": "60Rlk2WH6msC",
    "outputId": "77c1aa16-1973-47a5-857e-6efc56b962fd"
   },
   "outputs": [
    {
     "data": {
      "text/plain": [
       "<matplotlib.image.AxesImage at 0x1601b812af0>"
      ]
     },
     "execution_count": 17,
     "metadata": {},
     "output_type": "execute_result"
    },
    {
     "data": {
      "image/png": "[encoded data removed]",
      "text/plain": [
       "<Figure size 432x288 with 2 Axes>"
      ]
     },
     "metadata": {
      "needs_background": "light"
     },
     "output_type": "display_data"
    }
   ],
   "source": [
    "plt.subplot(1,2,1)\n",
    "plt.imshow(x[0].view(28,28), interpolation='none')\n",
    "plt.subplot(1,2,2)\n",
    "ae_cpu = ae.cpu()\n",
    "plt.imshow(ae_cpu(x[0]).detach().numpy().reshape(28,28), interpolation='none')\n"
   ]
  },
  {
   "cell_type": "markdown",
   "metadata": {
    "id": "bBkHEPLw6pN0"
   },
   "source": [
    "Slightly better, but still not great."
   ]
  },
  {
   "cell_type": "markdown",
   "metadata": {
    "id": "FVOd4c-W6vLd"
   },
   "source": [
    "## Implementing a Generative Adversarial Network"
   ]
  },
  {
   "cell_type": "markdown",
   "metadata": {
    "id": "XpekD8Uh6x1S"
   },
   "source": [
    "In the following examples we will implement a Generative Adversarial Network to sample from the MNIST distribution."
   ]
  },
  {
   "cell_type": "markdown",
   "metadata": {
    "id": "jTGYZ969-Qk0"
   },
   "source": [
    "### Exercise 10"
   ]
  },
  {
   "cell_type": "markdown",
   "metadata": {
    "id": "xiTY0q_k-WtL"
   },
   "source": [
    "1. If we want the discriminator to \"classify\" between real and fake, what would be an appropiate activation function?\n",
    "R: We would want a function bound to (0, 1). We could either take a binary step function, if we do not care abut uncertainty, or even better a sigmoid function.\n",
    "2. In what follows we will create the two antagonist networks that compete in the minimax game we described in the slides. Fill in the blanks and keep into account the answer to 10.1."
   ]
  },
  {
   "cell_type": "code",
   "execution_count": 18,
   "metadata": {
    "executionInfo": {
     "elapsed": 376,
     "status": "ok",
     "timestamp": 1627765619112,
     "user": {
      "displayName": "Miguel González Duque",
      "photoUrl": "https://lh3.googleusercontent.com/a-/AOh14GimSzbAlN9R2AMUkPo6-Y5Y2iNWJXP37U_IyAKQ=s64",
      "userId": "07264348204271089916"
     },
     "user_tz": -120
    },
    "id": "G0bQUyc6-0eu"
   },
   "outputs": [],
   "source": [
    "class GAN_Discriminator(nn.Module):\n",
    "    def __init__(self):\n",
    "        super(GAN_Discriminator, self).__init__()\n",
    "\n",
    "        n_hidden = 128\n",
    "        self.input_layer = nn.Sequential(\n",
    "            nn.Linear(28*28, n_hidden),\n",
    "            nn.ReLU()\n",
    "        )\n",
    "        self.output_layer = nn.Sequential(\n",
    "            nn.Linear(n_hidden, 1),\n",
    "            nn.Sigmoid()\n",
    "        )\n",
    "  \n",
    "    def forward(self, x: torch.Tensor) -> torch.Tensor:\n",
    "        return self.output_layer(self.input_layer(x))"
   ]
  },
  {
   "cell_type": "code",
   "execution_count": 19,
   "metadata": {
    "colab": {
     "base_uri": "https://localhost:8080/"
    },
    "executionInfo": {
     "elapsed": 16,
     "status": "ok",
     "timestamp": 1627765619113,
     "user": {
      "displayName": "Miguel González Duque",
      "photoUrl": "https://lh3.googleusercontent.com/a-/AOh14GimSzbAlN9R2AMUkPo6-Y5Y2iNWJXP37U_IyAKQ=s64",
      "userId": "07264348204271089916"
     },
     "user_tz": -120
    },
    "id": "HFa9J8BSB1rO",
    "outputId": "ff534a00-c86d-4a8d-a30d-dbc94904d4c3"
   },
   "outputs": [
    {
     "data": {
      "text/plain": [
       "GAN_Discriminator(\n",
       "  (input_layer): Sequential(\n",
       "    (0): Linear(in_features=784, out_features=128, bias=True)\n",
       "    (1): ReLU()\n",
       "  )\n",
       "  (output_layer): Sequential(\n",
       "    (0): Linear(in_features=128, out_features=1, bias=True)\n",
       "    (1): Sigmoid()\n",
       "  )\n",
       ")"
      ]
     },
     "execution_count": 19,
     "metadata": {},
     "output_type": "execute_result"
    }
   ],
   "source": [
    "D = GAN_Discriminator()\n",
    "D"
   ]
  },
  {
   "cell_type": "code",
   "execution_count": 20,
   "metadata": {
    "executionInfo": {
     "elapsed": 15,
     "status": "ok",
     "timestamp": 1627765619114,
     "user": {
      "displayName": "Miguel González Duque",
      "photoUrl": "https://lh3.googleusercontent.com/a-/AOh14GimSzbAlN9R2AMUkPo6-Y5Y2iNWJXP37U_IyAKQ=s64",
      "userId": "07264348204271089916"
     },
     "user_tz": -120
    },
    "id": "TrAzCfyC_nOM"
   },
   "outputs": [],
   "source": [
    "class GAN_Generator(nn.Module):\n",
    "    def __init__(self):\n",
    "        super(GAN_Generator, self).__init__()\n",
    "\n",
    "        n_hidden = 128\n",
    "        self.input_layer = nn.Sequential(\n",
    "            nn.Linear(2, n_hidden),\n",
    "            nn.ReLU()\n",
    "        )\n",
    "        self.output_layer = nn.Sequential(\n",
    "            nn.Linear(n_hidden, 28*28),\n",
    "            nn.Sigmoid()\n",
    "        )\n",
    "\n",
    "    def forward(self, z: torch.Tensor) -> torch.Tensor:\n",
    "        return self.output_layer(self.input_layer(z))"
   ]
  },
  {
   "cell_type": "code",
   "execution_count": 21,
   "metadata": {
    "colab": {
     "base_uri": "https://localhost:8080/"
    },
    "executionInfo": {
     "elapsed": 15,
     "status": "ok",
     "timestamp": 1627765619114,
     "user": {
      "displayName": "Miguel González Duque",
      "photoUrl": "https://lh3.googleusercontent.com/a-/AOh14GimSzbAlN9R2AMUkPo6-Y5Y2iNWJXP37U_IyAKQ=s64",
      "userId": "07264348204271089916"
     },
     "user_tz": -120
    },
    "id": "gx8JiGktBxVu",
    "outputId": "b69a6378-7042-4e36-d967-80efe1b11849"
   },
   "outputs": [
    {
     "data": {
      "text/plain": [
       "GAN_Generator(\n",
       "  (input_layer): Sequential(\n",
       "    (0): Linear(in_features=2, out_features=128, bias=True)\n",
       "    (1): ReLU()\n",
       "  )\n",
       "  (output_layer): Sequential(\n",
       "    (0): Linear(in_features=128, out_features=784, bias=True)\n",
       "    (1): Sigmoid()\n",
       "  )\n",
       ")"
      ]
     },
     "execution_count": 21,
     "metadata": {},
     "output_type": "execute_result"
    }
   ],
   "source": [
    "G = GAN_Generator()\n",
    "G"
   ]
  },
  {
   "cell_type": "markdown",
   "metadata": {
    "id": "lqE72hXSBbBR"
   },
   "source": [
    "### Exercise 11"
   ]
  },
  {
   "cell_type": "markdown",
   "metadata": {
    "id": "xhpPy_LbBoKQ"
   },
   "source": [
    "In what follows we will implement a `train_GAN` function that takes the two models `D` and `G` we defined above. Fill in the blanks."
   ]
  },
  {
   "cell_type": "code",
   "execution_count": 32,
   "metadata": {
    "executionInfo": {
     "elapsed": 13,
     "status": "ok",
     "timestamp": 1627765619115,
     "user": {
      "displayName": "Miguel González Duque",
      "photoUrl": "https://lh3.googleusercontent.com/a-/AOh14GimSzbAlN9R2AMUkPo6-Y5Y2iNWJXP37U_IyAKQ=s64",
      "userId": "07264348204271089916"
     },
     "user_tz": -120
    },
    "id": "KTykW12kCAcE"
   },
   "outputs": [],
   "source": [
    "classification_loss = torch.nn.BCELoss()\n",
    "\n",
    "def train_GAN(\n",
    "    D: GAN_Discriminator,\n",
    "    G: GAN_Generator,\n",
    "    opt_D: torch.optim.Optimizer,\n",
    "    opt_G: torch.optim.Optimizer,\n",
    "    data_loader: DataLoader,\n",
    "    epochs: int\n",
    "  ):\n",
    "  for epoch in range(epochs):\n",
    "    running_loss_D, running_loss_G = 0.0, 0.0\n",
    "    for real_batch, in data_loader:\n",
    "      real_batch = real_batch.to(device)\n",
    "      \n",
    "      # Getting random zs\n",
    "      batch_size, _ = real_batch.shape\n",
    "\n",
    "      ##! Create a random vector of shape (batch_size, 2), finish with .to(device) \n",
    "      random_z = torch.randn((batch_size, 2)).to(device)\n",
    "\n",
    "      # Minimizing w.r.t. D\n",
    "      D.train()\n",
    "      opt_D.zero_grad()\n",
    "\n",
    "      ## Computing the Discriminator at both\n",
    "      D_at_x = D(real_batch)\n",
    "      G_at_z = G(random_z)\n",
    "\n",
    "      ### Correctly classifying the real ones\n",
    "      loss_D_reals = classification_loss(\n",
    "          D_at_x,\n",
    "          torch.ones(batch_size, 1).to(device)\n",
    "      )\n",
    "\n",
    "      ### Correctly classifying the fake ones\n",
    "      loss_D_fakes = classification_loss(\n",
    "          D(G_at_z.detach()),\n",
    "          torch.zeros(batch_size, 1).to(device)\n",
    "      )\n",
    "\n",
    "      ##! Take the average of loss_D_reals and loss_D_fakes\n",
    "      loss_D = (loss_D_reals + loss_D_fakes) / 2\n",
    "\n",
    "      ##! Optimizer step. Fill in the blanks.\n",
    "      running_loss_D += loss_D.item()\n",
    "      loss_D.backward()\n",
    "      opt_D.step()\n",
    "\n",
    "      D.eval()\n",
    "\n",
    "      # Maximizing w.r.t G\n",
    "      G.train()\n",
    "      opt_G.zero_grad()\n",
    "\n",
    "      ## Computing fakes with G.\n",
    "      G_at_z = G(random_z)\n",
    "\n",
    "      ## Computing the missclassification of the Discriminator\n",
    "      loss_G = classification_loss(\n",
    "          D(G_at_z),\n",
    "          torch.ones(batch_size, 1).to(device)\n",
    "      )\n",
    "      \n",
    "      ##! Optimizer step. Fill in the blanks\n",
    "      running_loss_G += loss_G.item()\n",
    "      loss_G.backward()\n",
    "      opt_G.step()\n",
    "\n",
    "      G.eval()\n",
    "\n",
    "    # Printing utilities. Don't worry about this.\n",
    "    if epoch % 10 == 0 or epoch == epochs - 1:\n",
    "      print(f\"Epoch {epoch}, loss D: {running_loss_D/len(data_loader):.5f}, loss G: {running_loss_G/len(data_loader):.5f}\")\n",
    "      print(\"Random samples:\")\n",
    "      _, axes = plt.subplots(1, 3)\n",
    "      for fake_img, ax in zip(G_at_z, axes):\n",
    "        ax.axis(\"off\")\n",
    "        img = fake_img.view(28, 28).cpu().detach().numpy()\n",
    "        ax.imshow(img, vmin=0, vmax=1)\n",
    "\n",
    "      plt.show()\n",
    "      plt.close()"
   ]
  },
  {
   "cell_type": "markdown",
   "metadata": {
    "id": "Ov1vh76KZTpV"
   },
   "source": [
    "We will train this GAN for 100 epochs.\n",
    "1. Start by defining instances of our generator and discriminator (remember to use `.to(device)`)\n",
    "2. Define two optimizers (one for each network), and set a learning rate less than or equal to `0.001`.\n",
    "3. Run the `train_GAN` function with 100 epochs."
   ]
  },
  {
   "cell_type": "code",
   "execution_count": 33,
   "metadata": {
    "colab": {
     "base_uri": "https://localhost:8080/",
     "height": 1000
    },
    "executionInfo": {
     "elapsed": 345060,
     "status": "ok",
     "timestamp": 1627765988229,
     "user": {
      "displayName": "Miguel González Duque",
      "photoUrl": "https://lh3.googleusercontent.com/a-/AOh14GimSzbAlN9R2AMUkPo6-Y5Y2iNWJXP37U_IyAKQ=s64",
      "userId": "07264348204271089916"
     },
     "user_tz": -120
    },
    "id": "YpcfkoqWCS7j",
    "outputId": "7a823b8e-dec4-4c52-f9d7-d48f5fe97d87"
   },
   "outputs": [
    {
     "name": "stdout",
     "output_type": "stream",
     "text": [
      "Epoch 0, loss D: 0.08518, loss G: 4.85065\n",
      "Random samples:\n"
     ]
    },
    {
     "data": {
      "image/png": "[encoded data removed]",
      "text/plain": [
       "<Figure size 432x288 with 3 Axes>"
      ]
     },
     "metadata": {
      "needs_background": "light"
     },
     "output_type": "display_data"
    },
    {
     "name": "stdout",
     "output_type": "stream",
     "text": [
      "Epoch 10, loss D: 0.03992, loss G: 5.92612\n",
      "Random samples:\n"
     ]
    },
    {
     "data": {
      "image/png": "[encoded data removed]",
      "text/plain": [
       "<Figure size 432x288 with 3 Axes>"
      ]
     },
     "metadata": {
      "needs_background": "light"
     },
     "output_type": "display_data"
    },
    {
     "name": "stdout",
     "output_type": "stream",
     "text": [
      "Epoch 20, loss D: 0.02666, loss G: 7.75824\n",
      "Random samples:\n"
     ]
    },
    {
     "data": {
      "image/png": "[encoded data removed]",
      "text/plain": [
       "<Figure size 432x288 with 3 Axes>"
      ]
     },
     "metadata": {
      "needs_background": "light"
     },
     "output_type": "display_data"
    },
    {
     "name": "stdout",
     "output_type": "stream",
     "text": [
      "Epoch 30, loss D: 0.02300, loss G: 9.09256\n",
      "Random samples:\n"
     ]
    },
    {
     "data": {
      "image/png": "[encoded data removed]",
      "text/plain": [
       "<Figure size 432x288 with 3 Axes>"
      ]
     },
     "metadata": {
      "needs_background": "light"
     },
     "output_type": "display_data"
    },
    {
     "name": "stdout",
     "output_type": "stream",
     "text": [
      "Epoch 40, loss D: 0.02557, loss G: 9.52596\n",
      "Random samples:\n"
     ]
    },
    {
     "data": {
      "image/png": "[encoded data removed]",
      "text/plain": [
       "<Figure size 432x288 with 3 Axes>"
      ]
     },
     "metadata": {
      "needs_background": "light"
     },
     "output_type": "display_data"
    },
    {
     "name": "stdout",
     "output_type": "stream",
     "text": [
      "Epoch 50, loss D: 0.04070, loss G: 10.90017\n",
      "Random samples:\n"
     ]
    },
    {
     "data": {
      "image/png": "[encoded data removed]",
      "text/plain": [
       "<Figure size 432x288 with 3 Axes>"
      ]
     },
     "metadata": {
      "needs_background": "light"
     },
     "output_type": "display_data"
    },
    {
     "name": "stdout",
     "output_type": "stream",
     "text": [
      "Epoch 60, loss D: 0.02483, loss G: 10.54326\n",
      "Random samples:\n"
     ]
    },
    {
     "data": {
      "image/png": "[encoded data removed]",
      "text/plain": [
       "<Figure size 432x288 with 3 Axes>"
      ]
     },
     "metadata": {
      "needs_background": "light"
     },
     "output_type": "display_data"
    },
    {
     "name": "stdout",
     "output_type": "stream",
     "text": [
      "Epoch 70, loss D: 0.03262, loss G: 8.78599\n",
      "Random samples:\n"
     ]
    },
    {
     "data": {
      "image/png": "[encoded data removed]",
      "text/plain": [
       "<Figure size 432x288 with 3 Axes>"
      ]
     },
     "metadata": {
      "needs_background": "light"
     },
     "output_type": "display_data"
    },
    {
     "name": "stdout",
     "output_type": "stream",
     "text": [
      "Epoch 80, loss D: 0.03008, loss G: 8.76620\n",
      "Random samples:\n"
     ]
    },
    {
     "data": {
      "image/png": "[encoded data removed]",
      "text/plain": [
       "<Figure size 432x288 with 3 Axes>"
      ]
     },
     "metadata": {
      "needs_background": "light"
     },
     "output_type": "display_data"
    },
    {
     "name": "stdout",
     "output_type": "stream",
     "text": [
      "Epoch 90, loss D: 0.02347, loss G: 10.01792\n",
      "Random samples:\n"
     ]
    },
    {
     "data": {
      "image/png": "[encoded data removed]",
      "text/plain": [
       "<Figure size 432x288 with 3 Axes>"
      ]
     },
     "metadata": {
      "needs_background": "light"
     },
     "output_type": "display_data"
    },
    {
     "name": "stdout",
     "output_type": "stream",
     "text": [
      "Epoch 99, loss D: 0.03874, loss G: 8.94965\n",
      "Random samples:\n"
     ]
    },
    {
     "data": {
      "image/png": "[encoded data removed]",
      "text/plain": [
       "<Figure size 432x288 with 3 Axes>"
      ]
     },
     "metadata": {
      "needs_background": "light"
     },
     "output_type": "display_data"
    }
   ],
   "source": [
    "D = GAN_Discriminator().to(device)\n",
    "G = GAN_Generator().to(device)\n",
    "\n",
    "opt_G = torch.optim.Adam(G.parameters(), 0.001)\n",
    "opt_D = torch.optim.Adam(D.parameters(), 0.001)\n",
    "\n",
    "train_GAN(D, G, opt_D, opt_G, data_loader, 100)"
   ]
  },
  {
   "cell_type": "markdown",
   "metadata": {
    "id": "6UnV5lIAGgiK"
   },
   "source": [
    "### Exercise 12"
   ]
  },
  {
   "cell_type": "markdown",
   "metadata": {
    "id": "OoAygUpbV59e"
   },
   "source": [
    "1. Get a random vector `z` of shape `(1000, 2)` using `torch.randn`.\n",
    "2. Get the generated images for said `z` using our generator `G`.\n",
    "3. Plot them in the latent space using the auxiliary function we provide."
   ]
  },
  {
   "cell_type": "code",
   "execution_count": 34,
   "metadata": {
    "executionInfo": {
     "elapsed": 234,
     "status": "ok",
     "timestamp": 1627765993840,
     "user": {
      "displayName": "Miguel González Duque",
      "photoUrl": "https://lh3.googleusercontent.com/a-/AOh14GimSzbAlN9R2AMUkPo6-Y5Y2iNWJXP37U_IyAKQ=s64",
      "userId": "07264348204271089916"
     },
     "user_tz": -120
    },
    "id": "yb8idkK5XKHI"
   },
   "outputs": [],
   "source": [
    "from matplotlib.offsetbox import OffsetImage, AnnotationBbox\n",
    "\n",
    "def plot_images(z: torch.Tensor, fakes: torch.Tensor):\n",
    "  \"\"\"\n",
    "  Plots the fake images in {fakes} at positions {z}.\n",
    "  \"\"\"\n",
    "  _, ax = plt.subplots(1, 1)\n",
    "\n",
    "  z = z.cpu().detach().numpy()\n",
    "  images = fakes.view(fakes.shape[0], 28, 28)\n",
    "  images = images.cpu().detach().numpy()\n",
    "\n",
    "  for zi, img in zip(z, images):\n",
    "    im = OffsetImage(img, zoom=0.5)\n",
    "    ab = AnnotationBbox(im, zi, xycoords='data', frameon=False)\n",
    "    ax.add_artist(ab)\n",
    "    ax.update_datalim([zi])\n",
    "    ax.autoscale()"
   ]
  },
  {
   "cell_type": "code",
   "execution_count": 38,
   "metadata": {
    "colab": {
     "base_uri": "https://localhost:8080/",
     "height": 265
    },
    "executionInfo": {
     "elapsed": 5289,
     "status": "ok",
     "timestamp": 1627765999958,
     "user": {
      "displayName": "Miguel González Duque",
      "photoUrl": "https://lh3.googleusercontent.com/a-/AOh14GimSzbAlN9R2AMUkPo6-Y5Y2iNWJXP37U_IyAKQ=s64",
      "userId": "07264348204271089916"
     },
     "user_tz": -120
    },
    "id": "VBNkGDYBXM4A",
    "outputId": "1af0e385-0f3a-4359-d662-f8414bd30a48"
   },
   "outputs": [
    {
     "data": {
      "image/png": "[encoded data removed]",
      "text/plain": [
       "<Figure size 432x288 with 1 Axes>"
      ]
     },
     "metadata": {
      "needs_background": "light"
     },
     "output_type": "display_data"
    }
   ],
   "source": [
    "z = torch.randn((1000,2)).to(device)\n",
    "fakes = G(z)\n",
    "plot_images(z, fakes)"
   ]
  }
 ],
 "metadata": {
  "accelerator": "GPU",
  "colab": {
   "authorship_tag": "ABX9TyMaXPFMkCc0PDCDKJmgpvYH",
   "collapsed_sections": [],
   "name": "Project - Deep Generative Models.ipynb",
   "provenance": []
  },
  "kernelspec": {
   "display_name": "Python 3 (ipykernel)",
   "language": "python",
   "name": "python3"
  },
  "language_info": {
   "codemirror_mode": {
    "name": "ipython",
    "version": 3
   },
   "file_extension": ".py",
   "mimetype": "text/x-python",
   "name": "python",
   "nbconvert_exporter": "python",
   "pygments_lexer": "ipython3",
   "version": "3.8.8"
  }
 },
 "nbformat": 4,
 "nbformat_minor": 4
}
